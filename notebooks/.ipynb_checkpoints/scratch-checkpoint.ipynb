{
 "cells": [
  {
   "cell_type": "markdown",
   "metadata": {},
   "source": [
    "Scratchpad for identifying unique words and average word length per song.  Data saved and later used in Tableau for visualization."
   ]
  },
  {
   "cell_type": "code",
   "execution_count": 1,
   "metadata": {},
   "outputs": [],
   "source": [
    "import pickle\n",
    "import pandas as pd\n",
    "import nltk"
   ]
  },
  {
   "cell_type": "code",
   "execution_count": 2,
   "metadata": {},
   "outputs": [],
   "source": [
    "with open('../data/metal_artists.pickle','rb') as rf:\n",
    "    metal = pickle.load(rf)"
   ]
  },
  {
   "cell_type": "code",
   "execution_count": 83,
   "metadata": {},
   "outputs": [],
   "source": [
    "df = pd.DataFrame(metal)"
   ]
  },
  {
   "cell_type": "code",
   "execution_count": 84,
   "metadata": {},
   "outputs": [],
   "source": [
    "df.dropna(subset=['lyrics'],inplace=True)"
   ]
  },
  {
   "cell_type": "code",
   "execution_count": 85,
   "metadata": {},
   "outputs": [
    {
     "name": "stdout",
     "output_type": "stream",
     "text": [
      "<class 'pandas.core.frame.DataFrame'>\n",
      "Int64Index: 50039 entries, 0 to 50040\n",
      "Data columns (total 7 columns):\n",
      " #   Column        Non-Null Count  Dtype \n",
      "---  ------        --------------  ----- \n",
      " 0   artist_name   50039 non-null  object\n",
      " 1   release_date  33338 non-null  object\n",
      " 2   page_views    50039 non-null  int64 \n",
      " 3   song_title    50039 non-null  object\n",
      " 4   album_name    50039 non-null  object\n",
      " 5   spotify_url   29525 non-null  object\n",
      " 6   lyrics        50039 non-null  object\n",
      "dtypes: int64(1), object(6)\n",
      "memory usage: 3.1+ MB\n"
     ]
    }
   ],
   "source": [
    "df.info()"
   ]
  },
  {
   "cell_type": "code",
   "execution_count": 6,
   "metadata": {},
   "outputs": [],
   "source": [
    "lyrics = df['lyrics']"
   ]
  },
  {
   "cell_type": "code",
   "execution_count": 11,
   "metadata": {},
   "outputs": [],
   "source": [
    "english_words = set(nltk.corpus.words.words())"
   ]
  },
  {
   "cell_type": "code",
   "execution_count": 18,
   "metadata": {},
   "outputs": [],
   "source": [
    "lyric_list = []\n",
    "for row in lyrics:\n",
    "    unique_words = set(row)\n",
    "    lyric_list.append(english_words & unique_words)"
   ]
  },
  {
   "cell_type": "code",
   "execution_count": 20,
   "metadata": {},
   "outputs": [],
   "source": [
    "lyric_list = lyrics.tolist()"
   ]
  },
  {
   "cell_type": "code",
   "execution_count": 22,
   "metadata": {},
   "outputs": [
    {
     "data": {
      "text/plain": [
       "50039"
      ]
     },
     "execution_count": 22,
     "metadata": {},
     "output_type": "execute_result"
    }
   ],
   "source": [
    "len(lyric_list)"
   ]
  },
  {
   "cell_type": "code",
   "execution_count": 27,
   "metadata": {},
   "outputs": [],
   "source": [
    "final = []\n",
    "for lyric in lyric_list:\n",
    "    unique_words = set(lyric.split())\n",
    "    final.append(english_words & unique_words)"
   ]
  },
  {
   "cell_type": "code",
   "execution_count": 31,
   "metadata": {},
   "outputs": [],
   "source": [
    "unique_lyrics = pd.Series(final)"
   ]
  },
  {
   "cell_type": "code",
   "execution_count": 105,
   "metadata": {},
   "outputs": [],
   "source": [
    "df['unique_words'] = unique_lyrics.str.len()"
   ]
  },
  {
   "cell_type": "code",
   "execution_count": 38,
   "metadata": {},
   "outputs": [
    {
     "data": {
      "text/plain": [
       "array([ 66.,  99., 112.,  61.,  88.,  65.,  68.,  53.,  81., 103.,  22.,\n",
       "        80., 140.,  82.,  64.,  79.,  71.,  90.,  76.,  92.,  74.,  98.,\n",
       "        54., 102.,  42.,  93.,  91.,  44.,  70.,   0.,  52.,  35., 117.,\n",
       "        59., 101.,  75.,  96.,  56., 109., 130., 122., 131.,  84., 149.,\n",
       "        83., 126., 115., 119.,  86.,  89., 129., 113., 108.,  78.,  67.,\n",
       "       105., 145., 136., 123., 132., 134., 143., 125.,  47.,  58., 107.,\n",
       "       120., 138., 142., 100., 128., 116., 118.,  69.,  97.,  95.,  77.,\n",
       "       154.,  57.,  30.,  49.,  87.,  50.,  72.,  60.,  51.,  85.,  38.,\n",
       "        63.,  45.,  62.,  48.,  55., 104.,  39.,  28.,  73., 148., 114.,\n",
       "        26., 111.,  41.,  94.,  43.,  37.,  29.,  16., 106.,  20., 110.,\n",
       "        33.,  40.,  25., 195., 168., 151.,  46.,  12.,  10.,  17.,  19.,\n",
       "        14.,  13., 127.,  18.,  24.,  11., 171.,  15.,   9.,   3.,  31.,\n",
       "         5.,  32.,   4., 165., 188.,   6.,  36., 157.,  27.,  23.,   2.,\n",
       "       133.,  21.,   7., 182., 135.,  34.,   1., 166., 147., 150., 162.,\n",
       "       337., 158., 584., 152., 170., 124., 234., 192., 155., 204., 220.,\n",
       "       176., 281., 181., 221., 184., 186., 194., 235., 164., 160., 219.,\n",
       "       240., 193., 198., 163., 146., 179., 191., 175., 199., 141., 211.,\n",
       "       189., 213.,   8., 202., 190., 177., 217., 174., 180., 144., 242.,\n",
       "       267., 121., 161., 218., 153., 197., 173., 178., 205., 279., 183.,\n",
       "       201., 264., 577., 229., 243., 257., 156., 272., 159., 298., 172.,\n",
       "       210., 216., 389., 404., 338., 230., 315., 343., 227., 206., 169.,\n",
       "       208., 231., 222., 244., 167., 224., 185., 226., 207., 137., 214.,\n",
       "       237., 225., 139., 232., 203., 200., 223., 196., 245., 236., 327.,\n",
       "       252., 247., 212., 228., 289., 239., 365., 187., 256., 514., 297.,\n",
       "       241., 268., 255., 261., 265., 233., 292., 253., 464., 333., 293.,\n",
       "       250., 310., 278., 538., 238., 838., 336., 384., 482., 215., 258.,\n",
       "       426., 370., 382., 269., 305., 535., 248., 251., 287., 348., 209.,\n",
       "       322., 270., 398., 334., 449., 359., 430., 275., 314., 273., 346.,\n",
       "       453., 288., 356., 294., 340., 259., 376., 249., 344., 276., 381.,\n",
       "       277., 274.,  nan])"
      ]
     },
     "execution_count": 38,
     "metadata": {},
     "output_type": "execute_result"
    }
   ],
   "source": [
    "df.unique_words.unique()"
   ]
  },
  {
   "cell_type": "code",
   "execution_count": 40,
   "metadata": {},
   "outputs": [
    {
     "data": {
      "text/html": [
       "<div>\n",
       "<style scoped>\n",
       "    .dataframe tbody tr th:only-of-type {\n",
       "        vertical-align: middle;\n",
       "    }\n",
       "\n",
       "    .dataframe tbody tr th {\n",
       "        vertical-align: top;\n",
       "    }\n",
       "\n",
       "    .dataframe thead th {\n",
       "        text-align: right;\n",
       "    }\n",
       "</style>\n",
       "<table border=\"1\" class=\"dataframe\">\n",
       "  <thead>\n",
       "    <tr style=\"text-align: right;\">\n",
       "      <th></th>\n",
       "      <th>artist_name</th>\n",
       "      <th>release_date</th>\n",
       "      <th>page_views</th>\n",
       "      <th>song_title</th>\n",
       "      <th>album_name</th>\n",
       "      <th>spotify_url</th>\n",
       "      <th>lyrics</th>\n",
       "      <th>unique_words</th>\n",
       "    </tr>\n",
       "  </thead>\n",
       "  <tbody>\n",
       "    <tr>\n",
       "      <th>0</th>\n",
       "      <td>Kreator</td>\n",
       "      <td>2016-12-16</td>\n",
       "      <td>13775</td>\n",
       "      <td>Satan Is Real</td>\n",
       "      <td>Gods of Violence</td>\n",
       "      <td>nan</td>\n",
       "      <td>Martyrs\\nYou cannot kill us all\\nVengeance wil...</td>\n",
       "      <td>66.0</td>\n",
       "    </tr>\n",
       "    <tr>\n",
       "      <th>1</th>\n",
       "      <td>Kreator</td>\n",
       "      <td>1986-11-01</td>\n",
       "      <td>8745</td>\n",
       "      <td>Pleasure to Kill</td>\n",
       "      <td>Pleasure to Kill</td>\n",
       "      <td>nan</td>\n",
       "      <td>Day turns to night as I rise from my grave\\nBl...</td>\n",
       "      <td>99.0</td>\n",
       "    </tr>\n",
       "    <tr>\n",
       "      <th>2</th>\n",
       "      <td>Kreator</td>\n",
       "      <td>None</td>\n",
       "      <td>5037</td>\n",
       "      <td>Enemy Of God</td>\n",
       "      <td>Enemy Of God</td>\n",
       "      <td>nan</td>\n",
       "      <td>Shocked Orwellian races, gather united in grie...</td>\n",
       "      <td>112.0</td>\n",
       "    </tr>\n",
       "    <tr>\n",
       "      <th>3</th>\n",
       "      <td>Kreator</td>\n",
       "      <td>2017-01-27</td>\n",
       "      <td>0</td>\n",
       "      <td>Fallen Brother</td>\n",
       "      <td>Gods of Violence</td>\n",
       "      <td>nan</td>\n",
       "      <td>[Instrumental Intro]\\n\\nMuch too young you had...</td>\n",
       "      <td>61.0</td>\n",
       "    </tr>\n",
       "    <tr>\n",
       "      <th>4</th>\n",
       "      <td>Kreator</td>\n",
       "      <td>2017-01-27</td>\n",
       "      <td>0</td>\n",
       "      <td>Totalitarian Terror</td>\n",
       "      <td>Gods of Violence</td>\n",
       "      <td>nan</td>\n",
       "      <td>Come experience hate like you never have befor...</td>\n",
       "      <td>88.0</td>\n",
       "    </tr>\n",
       "  </tbody>\n",
       "</table>\n",
       "</div>"
      ],
      "text/plain": [
       "  artist_name release_date  page_views           song_title        album_name  \\\n",
       "0     Kreator   2016-12-16       13775        Satan Is Real  Gods of Violence   \n",
       "1     Kreator   1986-11-01        8745     Pleasure to Kill  Pleasure to Kill   \n",
       "2     Kreator         None        5037         Enemy Of God      Enemy Of God   \n",
       "3     Kreator   2017-01-27           0       Fallen Brother  Gods of Violence   \n",
       "4     Kreator   2017-01-27           0  Totalitarian Terror  Gods of Violence   \n",
       "\n",
       "  spotify_url                                             lyrics  unique_words  \n",
       "0         nan  Martyrs\\nYou cannot kill us all\\nVengeance wil...          66.0  \n",
       "1         nan  Day turns to night as I rise from my grave\\nBl...          99.0  \n",
       "2         nan  Shocked Orwellian races, gather united in grie...         112.0  \n",
       "3         nan  [Instrumental Intro]\\n\\nMuch too young you had...          61.0  \n",
       "4         nan  Come experience hate like you never have befor...          88.0  "
      ]
     },
     "execution_count": 40,
     "metadata": {},
     "output_type": "execute_result"
    }
   ],
   "source": [
    "df.head()"
   ]
  },
  {
   "cell_type": "code",
   "execution_count": 42,
   "metadata": {},
   "outputs": [],
   "source": [
    "import numpy as np"
   ]
  },
  {
   "cell_type": "code",
   "execution_count": 50,
   "metadata": {},
   "outputs": [],
   "source": [
    "def avg_word_length(word_set):\n",
    "    return np.mean([len(word) for word in word_set])"
   ]
  },
  {
   "cell_type": "code",
   "execution_count": 106,
   "metadata": {},
   "outputs": [
    {
     "name": "stderr",
     "output_type": "stream",
     "text": [
      "/Users/drewhibbard/anaconda3/lib/python3.8/site-packages/numpy/core/fromnumeric.py:3334: RuntimeWarning: Mean of empty slice.\n",
      "  return _methods._mean(a, axis=axis, dtype=dtype,\n"
     ]
    }
   ],
   "source": [
    "df['avg_word_length'] = unique_lyrics.apply(avg_word_length)"
   ]
  },
  {
   "cell_type": "code",
   "execution_count": 107,
   "metadata": {},
   "outputs": [
    {
     "data": {
      "text/html": [
       "<div>\n",
       "<style scoped>\n",
       "    .dataframe tbody tr th:only-of-type {\n",
       "        vertical-align: middle;\n",
       "    }\n",
       "\n",
       "    .dataframe tbody tr th {\n",
       "        vertical-align: top;\n",
       "    }\n",
       "\n",
       "    .dataframe thead th {\n",
       "        text-align: right;\n",
       "    }\n",
       "</style>\n",
       "<table border=\"1\" class=\"dataframe\">\n",
       "  <thead>\n",
       "    <tr style=\"text-align: right;\">\n",
       "      <th></th>\n",
       "      <th>artist_name</th>\n",
       "      <th>release_date</th>\n",
       "      <th>page_views</th>\n",
       "      <th>song_title</th>\n",
       "      <th>album_name</th>\n",
       "      <th>spotify_url</th>\n",
       "      <th>lyrics</th>\n",
       "      <th>longest_word</th>\n",
       "      <th>unique_words</th>\n",
       "      <th>avg_word_length</th>\n",
       "    </tr>\n",
       "  </thead>\n",
       "  <tbody>\n",
       "    <tr>\n",
       "      <th>0</th>\n",
       "      <td>Kreator</td>\n",
       "      <td>2016-12-16</td>\n",
       "      <td>13775</td>\n",
       "      <td>Satan Is Real</td>\n",
       "      <td>Gods of Violence</td>\n",
       "      <td>nan</td>\n",
       "      <td>Martyrs\\nYou cannot kill us all\\nVengeance wil...</td>\n",
       "      <td>compartmentalization</td>\n",
       "      <td>66.0</td>\n",
       "      <td>4.393939</td>\n",
       "    </tr>\n",
       "    <tr>\n",
       "      <th>1</th>\n",
       "      <td>Kreator</td>\n",
       "      <td>1986-11-01</td>\n",
       "      <td>8745</td>\n",
       "      <td>Pleasure to Kill</td>\n",
       "      <td>Pleasure to Kill</td>\n",
       "      <td>nan</td>\n",
       "      <td>Day turns to night as I rise from my grave\\nBl...</td>\n",
       "      <td>misinterpretation</td>\n",
       "      <td>99.0</td>\n",
       "      <td>4.121212</td>\n",
       "    </tr>\n",
       "    <tr>\n",
       "      <th>2</th>\n",
       "      <td>Kreator</td>\n",
       "      <td>None</td>\n",
       "      <td>5037</td>\n",
       "      <td>Enemy Of God</td>\n",
       "      <td>Enemy Of God</td>\n",
       "      <td>nan</td>\n",
       "      <td>Shocked Orwellian races, gather united in grie...</td>\n",
       "      <td>trichloroethylene</td>\n",
       "      <td>112.0</td>\n",
       "      <td>5.089286</td>\n",
       "    </tr>\n",
       "    <tr>\n",
       "      <th>3</th>\n",
       "      <td>Kreator</td>\n",
       "      <td>2017-01-27</td>\n",
       "      <td>0</td>\n",
       "      <td>Fallen Brother</td>\n",
       "      <td>Gods of Violence</td>\n",
       "      <td>nan</td>\n",
       "      <td>[Instrumental Intro]\\n\\nMuch too young you had...</td>\n",
       "      <td>misrepresentation</td>\n",
       "      <td>61.0</td>\n",
       "      <td>4.131148</td>\n",
       "    </tr>\n",
       "    <tr>\n",
       "      <th>4</th>\n",
       "      <td>Kreator</td>\n",
       "      <td>2017-01-27</td>\n",
       "      <td>0</td>\n",
       "      <td>Totalitarian Terror</td>\n",
       "      <td>Gods of Violence</td>\n",
       "      <td>nan</td>\n",
       "      <td>Come experience hate like you never have befor...</td>\n",
       "      <td>misrepresentation</td>\n",
       "      <td>88.0</td>\n",
       "      <td>5.000000</td>\n",
       "    </tr>\n",
       "  </tbody>\n",
       "</table>\n",
       "</div>"
      ],
      "text/plain": [
       "  artist_name release_date  page_views           song_title        album_name  \\\n",
       "0     Kreator   2016-12-16       13775        Satan Is Real  Gods of Violence   \n",
       "1     Kreator   1986-11-01        8745     Pleasure to Kill  Pleasure to Kill   \n",
       "2     Kreator         None        5037         Enemy Of God      Enemy Of God   \n",
       "3     Kreator   2017-01-27           0       Fallen Brother  Gods of Violence   \n",
       "4     Kreator   2017-01-27           0  Totalitarian Terror  Gods of Violence   \n",
       "\n",
       "  spotify_url                                             lyrics  \\\n",
       "0         nan  Martyrs\\nYou cannot kill us all\\nVengeance wil...   \n",
       "1         nan  Day turns to night as I rise from my grave\\nBl...   \n",
       "2         nan  Shocked Orwellian races, gather united in grie...   \n",
       "3         nan  [Instrumental Intro]\\n\\nMuch too young you had...   \n",
       "4         nan  Come experience hate like you never have befor...   \n",
       "\n",
       "           longest_word  unique_words  avg_word_length  \n",
       "0  compartmentalization          66.0         4.393939  \n",
       "1     misinterpretation          99.0         4.121212  \n",
       "2     trichloroethylene         112.0         5.089286  \n",
       "3     misrepresentation          61.0         4.131148  \n",
       "4     misrepresentation          88.0         5.000000  "
      ]
     },
     "execution_count": 107,
     "metadata": {},
     "output_type": "execute_result"
    }
   ],
   "source": [
    "df.head()"
   ]
  },
  {
   "cell_type": "code",
   "execution_count": 60,
   "metadata": {},
   "outputs": [
    {
     "name": "stdout",
     "output_type": "stream",
     "text": [
      "<class 'pandas.core.frame.DataFrame'>\n",
      "Int64Index: 50039 entries, 0 to 50040\n",
      "Data columns (total 9 columns):\n",
      " #   Column           Non-Null Count  Dtype  \n",
      "---  ------           --------------  -----  \n",
      " 0   artist_name      50039 non-null  object \n",
      " 1   release_date     33338 non-null  object \n",
      " 2   page_views       50039 non-null  int64  \n",
      " 3   song_title       50039 non-null  object \n",
      " 4   album_name       50039 non-null  object \n",
      " 5   spotify_url      29525 non-null  object \n",
      " 6   lyrics           50039 non-null  object \n",
      " 7   unique_words     50037 non-null  float64\n",
      " 8   avg_word_length  48441 non-null  float64\n",
      "dtypes: float64(2), int64(1), object(6)\n",
      "memory usage: 5.1+ MB\n"
     ]
    }
   ],
   "source": [
    "df.info()"
   ]
  },
  {
   "cell_type": "code",
   "execution_count": 108,
   "metadata": {},
   "outputs": [],
   "source": [
    "df.dropna(subset=['unique_words','avg_word_length'],inplace=True)"
   ]
  },
  {
   "cell_type": "code",
   "execution_count": 109,
   "metadata": {},
   "outputs": [],
   "source": [
    "df.drop('lyrics',axis=1,inplace=True)"
   ]
  },
  {
   "cell_type": "code",
   "execution_count": 110,
   "metadata": {},
   "outputs": [],
   "source": [
    "df.to_csv('../data/unique_words.csv',index=False)"
   ]
  },
  {
   "cell_type": "code",
   "execution_count": 69,
   "metadata": {},
   "outputs": [
    {
     "data": {
      "text/plain": [
       "16293"
      ]
     },
     "execution_count": 69,
     "metadata": {},
     "output_type": "execute_result"
    }
   ],
   "source": [
    "df.release_date.isnull().sum()"
   ]
  },
  {
   "cell_type": "code",
   "execution_count": 92,
   "metadata": {},
   "outputs": [],
   "source": [
    "longest_words = []\n",
    "for lyrics in final:\n",
    "    try:\n",
    "        longest_words.append(max(lyrics,key=len))\n",
    "    except:\n",
    "        longest_words.append('na')"
   ]
  },
  {
   "cell_type": "code",
   "execution_count": 93,
   "metadata": {},
   "outputs": [],
   "source": [
    "longest_words.sort(key=len,reverse=True)"
   ]
  },
  {
   "cell_type": "code",
   "execution_count": 101,
   "metadata": {},
   "outputs": [
    {
     "data": {
      "text/plain": [
       "50039"
      ]
     },
     "execution_count": 101,
     "metadata": {},
     "output_type": "execute_result"
    }
   ],
   "source": [
    "len(longest_words)"
   ]
  },
  {
   "cell_type": "code",
   "execution_count": 103,
   "metadata": {},
   "outputs": [],
   "source": [
    "df['longest_word'] = pd.DataFrame(longest_words)"
   ]
  },
  {
   "cell_type": "code",
   "execution_count": 104,
   "metadata": {},
   "outputs": [
    {
     "data": {
      "text/html": [
       "<div>\n",
       "<style scoped>\n",
       "    .dataframe tbody tr th:only-of-type {\n",
       "        vertical-align: middle;\n",
       "    }\n",
       "\n",
       "    .dataframe tbody tr th {\n",
       "        vertical-align: top;\n",
       "    }\n",
       "\n",
       "    .dataframe thead th {\n",
       "        text-align: right;\n",
       "    }\n",
       "</style>\n",
       "<table border=\"1\" class=\"dataframe\">\n",
       "  <thead>\n",
       "    <tr style=\"text-align: right;\">\n",
       "      <th></th>\n",
       "      <th>artist_name</th>\n",
       "      <th>release_date</th>\n",
       "      <th>page_views</th>\n",
       "      <th>song_title</th>\n",
       "      <th>album_name</th>\n",
       "      <th>spotify_url</th>\n",
       "      <th>lyrics</th>\n",
       "      <th>longest_word</th>\n",
       "    </tr>\n",
       "  </thead>\n",
       "  <tbody>\n",
       "    <tr>\n",
       "      <th>0</th>\n",
       "      <td>Kreator</td>\n",
       "      <td>2016-12-16</td>\n",
       "      <td>13775</td>\n",
       "      <td>Satan Is Real</td>\n",
       "      <td>Gods of Violence</td>\n",
       "      <td>nan</td>\n",
       "      <td>Martyrs\\nYou cannot kill us all\\nVengeance wil...</td>\n",
       "      <td>compartmentalization</td>\n",
       "    </tr>\n",
       "    <tr>\n",
       "      <th>1</th>\n",
       "      <td>Kreator</td>\n",
       "      <td>1986-11-01</td>\n",
       "      <td>8745</td>\n",
       "      <td>Pleasure to Kill</td>\n",
       "      <td>Pleasure to Kill</td>\n",
       "      <td>nan</td>\n",
       "      <td>Day turns to night as I rise from my grave\\nBl...</td>\n",
       "      <td>misinterpretation</td>\n",
       "    </tr>\n",
       "    <tr>\n",
       "      <th>2</th>\n",
       "      <td>Kreator</td>\n",
       "      <td>None</td>\n",
       "      <td>5037</td>\n",
       "      <td>Enemy Of God</td>\n",
       "      <td>Enemy Of God</td>\n",
       "      <td>nan</td>\n",
       "      <td>Shocked Orwellian races, gather united in grie...</td>\n",
       "      <td>trichloroethylene</td>\n",
       "    </tr>\n",
       "    <tr>\n",
       "      <th>3</th>\n",
       "      <td>Kreator</td>\n",
       "      <td>2017-01-27</td>\n",
       "      <td>0</td>\n",
       "      <td>Fallen Brother</td>\n",
       "      <td>Gods of Violence</td>\n",
       "      <td>nan</td>\n",
       "      <td>[Instrumental Intro]\\n\\nMuch too young you had...</td>\n",
       "      <td>misrepresentation</td>\n",
       "    </tr>\n",
       "    <tr>\n",
       "      <th>4</th>\n",
       "      <td>Kreator</td>\n",
       "      <td>2017-01-27</td>\n",
       "      <td>0</td>\n",
       "      <td>Totalitarian Terror</td>\n",
       "      <td>Gods of Violence</td>\n",
       "      <td>nan</td>\n",
       "      <td>Come experience hate like you never have befor...</td>\n",
       "      <td>misrepresentation</td>\n",
       "    </tr>\n",
       "  </tbody>\n",
       "</table>\n",
       "</div>"
      ],
      "text/plain": [
       "  artist_name release_date  page_views           song_title        album_name  \\\n",
       "0     Kreator   2016-12-16       13775        Satan Is Real  Gods of Violence   \n",
       "1     Kreator   1986-11-01        8745     Pleasure to Kill  Pleasure to Kill   \n",
       "2     Kreator         None        5037         Enemy Of God      Enemy Of God   \n",
       "3     Kreator   2017-01-27           0       Fallen Brother  Gods of Violence   \n",
       "4     Kreator   2017-01-27           0  Totalitarian Terror  Gods of Violence   \n",
       "\n",
       "  spotify_url                                             lyrics  \\\n",
       "0         nan  Martyrs\\nYou cannot kill us all\\nVengeance wil...   \n",
       "1         nan  Day turns to night as I rise from my grave\\nBl...   \n",
       "2         nan  Shocked Orwellian races, gather united in grie...   \n",
       "3         nan  [Instrumental Intro]\\n\\nMuch too young you had...   \n",
       "4         nan  Come experience hate like you never have befor...   \n",
       "\n",
       "           longest_word  \n",
       "0  compartmentalization  \n",
       "1     misinterpretation  \n",
       "2     trichloroethylene  \n",
       "3     misrepresentation  \n",
       "4     misrepresentation  "
      ]
     },
     "execution_count": 104,
     "metadata": {},
     "output_type": "execute_result"
    }
   ],
   "source": [
    "df.head()"
   ]
  },
  {
   "cell_type": "code",
   "execution_count": 95,
   "metadata": {},
   "outputs": [],
   "source": [
    "import os"
   ]
  },
  {
   "cell_type": "code",
   "execution_count": 96,
   "metadata": {},
   "outputs": [
    {
     "data": {
      "text/plain": [
       "'/Users/drewhibbard/Documents/Projects/lyric-nlp/images'"
      ]
     },
     "execution_count": 96,
     "metadata": {},
     "output_type": "execute_result"
    }
   ],
   "source": [
    "os.getcwd()"
   ]
  },
  {
   "cell_type": "code",
   "execution_count": 100,
   "metadata": {},
   "outputs": [
    {
     "data": {
      "text/plain": [
       "3955"
      ]
     },
     "execution_count": 100,
     "metadata": {},
     "output_type": "execute_result"
    }
   ],
   "source": [
    "open('../data/longest_words.txt','w').write(' '.join(longest_words[:250]))"
   ]
  },
  {
   "cell_type": "code",
   "execution_count": 82,
   "metadata": {},
   "outputs": [
    {
     "name": "stdout",
     "output_type": "stream",
     "text": [
      "<class 'pandas.core.frame.DataFrame'>\n",
      "Int64Index: 48441 entries, 0 to 50038\n",
      "Data columns (total 8 columns):\n",
      " #   Column           Non-Null Count  Dtype  \n",
      "---  ------           --------------  -----  \n",
      " 0   artist_name      48441 non-null  object \n",
      " 1   release_date     32148 non-null  object \n",
      " 2   page_views       48441 non-null  int64  \n",
      " 3   song_title       48441 non-null  object \n",
      " 4   album_name       48441 non-null  object \n",
      " 5   spotify_url      28670 non-null  object \n",
      " 6   unique_words     48441 non-null  float64\n",
      " 7   avg_word_length  48441 non-null  float64\n",
      "dtypes: float64(2), int64(1), object(5)\n",
      "memory usage: 3.3+ MB\n"
     ]
    }
   ],
   "source": [
    "df.info()"
   ]
  },
  {
   "cell_type": "code",
   "execution_count": null,
   "metadata": {},
   "outputs": [],
   "source": []
  }
 ],
 "metadata": {
  "kernelspec": {
   "display_name": "Python 3",
   "language": "python",
   "name": "python3"
  },
  "language_info": {
   "codemirror_mode": {
    "name": "ipython",
    "version": 3
   },
   "file_extension": ".py",
   "mimetype": "text/x-python",
   "name": "python",
   "nbconvert_exporter": "python",
   "pygments_lexer": "ipython3",
   "version": "3.8.2"
  }
 },
 "nbformat": 4,
 "nbformat_minor": 4
}
