{
 "cells": [
  {
   "cell_type": "markdown",
   "metadata": {},
   "source": [
    "# Spotify Recommendation Systems"
   ]
  },
  {
   "cell_type": "markdown",
   "metadata": {},
   "source": [
    "In this notebook I try a couple of different recommendation systems for music on Spotify.\n",
    "\n",
    "1. Content-Based\n",
    "    - Using Spotify's track audio features, I compute the euclidean distance between songs in an attempt to find songs that sound similar to each other.  I then recommend the most similar songs.  This will take into account features provided by Spotify such as acousticness, loudness, energy, key, and tempo.\n",
    "    \n",
    "2. Collaborative Filtering\n",
    "    - I wanted to attempt this but I don't believe it's possible to get data on that many specific users, even anonymized.\n",
    "    - This version takes into account a user's history.  It identifies songs that a user has liked, finds users that have liked the most similar songs, and then recommends songs those users liked that the original user has not liked (presuming that they have not yet heard the song, not that they already disliked it). "
   ]
  },
  {
   "cell_type": "code",
   "execution_count": 1,
   "metadata": {},
   "outputs": [],
   "source": [
    "import requests\n",
    "import spotipy\n",
    "\n",
    "import sys\n",
    "sys.path.append('../modules/')\n",
    "import lyrics_grab\n",
    "import credentials\n",
    "from spotipy.oauth2 import SpotifyClientCredentials\n",
    "import pickle\n",
    "import numpy as np\n",
    "import pandas as pd"
   ]
  },
  {
   "cell_type": "code",
   "execution_count": 2,
   "metadata": {},
   "outputs": [],
   "source": [
    "# connect to Spotify API\n",
    "auth_manager = SpotifyClientCredentials(client_id=credentials.spotify_client_id,\n",
    "                                        client_secret=credentials.spotify_client_secret)\n",
    "sp = spotipy.Spotify(auth_manager=auth_manager)"
   ]
  },
  {
   "cell_type": "code",
   "execution_count": 3,
   "metadata": {},
   "outputs": [],
   "source": [
    "# open the json of metal artists\n",
    "with open('../data/metal_raw.pickle','rb') as rf:\n",
    "    metal_raw = pickle.load(rf)"
   ]
  },
  {
   "cell_type": "code",
   "execution_count": 4,
   "metadata": {},
   "outputs": [],
   "source": [
    "# extact only relevant info\n",
    "artists = lyrics_grab.extract_artist_info(metal_raw)"
   ]
  },
  {
   "cell_type": "code",
   "execution_count": 5,
   "metadata": {},
   "outputs": [],
   "source": [
    "# get data from Spotify about each song\n",
    "# songs = lyrics_grab.extract_song_info(list(artists.keys()))"
   ]
  },
  {
   "cell_type": "code",
   "execution_count": 6,
   "metadata": {},
   "outputs": [],
   "source": [
    "# with open('../data/song_info.pickle','wb') as out:\n",
    "#     pickle.dump(songs,out)"
   ]
  },
  {
   "cell_type": "code",
   "execution_count": 7,
   "metadata": {},
   "outputs": [],
   "source": [
    "# song_ids = lyrics_grab.get_song_ids(songs)"
   ]
  },
  {
   "cell_type": "code",
   "execution_count": 8,
   "metadata": {},
   "outputs": [],
   "source": [
    "# get characteristics for each song from Spotify (such as loudness, energy, etc.)\n",
    "# audio_features = lyrics_grab.get_audio_features(song_ids)"
   ]
  },
  {
   "cell_type": "code",
   "execution_count": 9,
   "metadata": {},
   "outputs": [],
   "source": [
    "# with open('../data/audio_features.pickle','wb') as out:\n",
    "#     pickle.dump(audio_features,out)"
   ]
  },
  {
   "cell_type": "code",
   "execution_count": 10,
   "metadata": {},
   "outputs": [],
   "source": [
    "with open('../data/song_info.pickle','rb') as rf:\n",
    "    songs = pickle.load(rf)\n",
    "    \n",
    "with open('../data/audio_features.pickle','rb') as rf:\n",
    "    audio_features = pickle.load(rf)"
   ]
  },
  {
   "cell_type": "code",
   "execution_count": 11,
   "metadata": {},
   "outputs": [],
   "source": [
    "audio_df = pd.DataFrame(audio_features)\n",
    "songs_df = pd.DataFrame(songs)"
   ]
  },
  {
   "cell_type": "code",
   "execution_count": 90,
   "metadata": {},
   "outputs": [],
   "source": [
    "df = songs_df.merge(audio_df,left_on='id',right_on='id')"
   ]
  },
  {
   "cell_type": "code",
   "execution_count": 91,
   "metadata": {},
   "outputs": [],
   "source": [
    "df.sort_values('popularity',ascending=False,inplace=True)\n",
    "df.reset_index(drop=True,inplace=True)"
   ]
  },
  {
   "cell_type": "code",
   "execution_count": 92,
   "metadata": {},
   "outputs": [],
   "source": [
    "df = df.iloc[:20000,:]"
   ]
  },
  {
   "cell_type": "code",
   "execution_count": 93,
   "metadata": {},
   "outputs": [],
   "source": [
    "df_large = df.copy()"
   ]
  },
  {
   "cell_type": "code",
   "execution_count": 94,
   "metadata": {},
   "outputs": [],
   "source": [
    "#only keep columns that will be relevant to end user\n",
    "df = df[['song_name','artist_name','album_name','popularity','link']]\n",
    "\n",
    "# eliminate non-metal artists\n",
    "df = df[df.artist_name!='Rauw Alejandro']\n",
    "df = df[df.artist_name!='Jowell & Randy']\n",
    "df = df[df.artist_name!='Rachel Platten']\n",
    "df = df[df.artist_name!='Corinne Baily Rae']\n",
    "df = df[df.artist_name!=\"Rag'n'Bone Man\"]\n",
    "df = df[df.artist_name!='Lenin Ramírez']\n",
    "df = df[df.artist_name!='Au/Ra']\n",
    "df = df[df.artist_name!='Hot Chelle Rae']\n",
    "df = df[df.artist_name!='Don Omar']\n",
    "df = df[df.artist_name!='Rae Sremmurd']\n",
    "df = df[df.artist_name!='Don Omar']\n",
    "df = df[df.artist_name!='girl in red']\n",
    "df = df[df.artist_name!='Corinne Bailey Rae']\n",
    "df = df[df.artist_name!='Ray Parker Jr.']\n",
    "df = df[df.artist_name!='Elle King']\n",
    "df = df[df.artist_name!='Omarion']\n",
    "df = df[df.artist_name!='Leona Lewis']\n",
    "df = df[df.artist_name!='Chance the Rapper']\n",
    "df = df[df.artist_name!='Lin-Manuel Miranda']\n",
    "df = df[df.artist_name!='White Noise Baby Sleep']\n",
    "df = df[df.artist_name!='Ray LaMontagne']\n",
    "df = df[df.artist_name!='Rain Sounds']\n",
    "df = df[df.artist_name!='The Weeknd']\n",
    "df = df[df.artist_name!='Rain Sounds For Sleep']\n",
    "df = df[df.artist_name!='RaeLynn']\n",
    "df = df[df.artist_name!='Carin Leon']\n",
    "df = df[df.artist_name!='Rascal Flatts']\n",
    "df = df[df.artist_name!='Isaiah Rashad']\n",
    "df = df[df.artist_name!='Ray J']\n",
    "df = df[df.artist_name!='Céline Dion']\n",
    "df = df[df.artist_name!='Baby Sleep']\n",
    "df = df[df.artist_name!='Taylor Ray Holbrook']\n",
    "df = df[df.artist_name!='Vancouver Sleep Clinic']"
   ]
  },
  {
   "cell_type": "code",
   "execution_count": 95,
   "metadata": {},
   "outputs": [],
   "source": [
    "with open('../../lyric-nlp/song_df.pickle','wb') as out:\n",
    "    pickle.dump(df,out)"
   ]
  },
  {
   "cell_type": "code",
   "execution_count": 96,
   "metadata": {},
   "outputs": [],
   "source": [
    "from sklearn.metrics.pairwise import pairwise_distances\n",
    "from sklearn.preprocessing import StandardScaler\n",
    "from sklearn.decomposition import PCA"
   ]
  },
  {
   "cell_type": "markdown",
   "metadata": {},
   "source": [
    "Scale and perform PCA on all of the \"audio features\".  Then take pairwise distances."
   ]
  },
  {
   "cell_type": "code",
   "execution_count": 97,
   "metadata": {},
   "outputs": [],
   "source": [
    "scaler = StandardScaler()"
   ]
  },
  {
   "cell_type": "code",
   "execution_count": 98,
   "metadata": {},
   "outputs": [
    {
     "name": "stderr",
     "output_type": "stream",
     "text": [
      "/Users/drewhibbard/anaconda3/lib/python3.8/site-packages/pandas/core/frame.py:4163: SettingWithCopyWarning: \n",
      "A value is trying to be set on a copy of a slice from a DataFrame\n",
      "\n",
      "See the caveats in the documentation: https://pandas.pydata.org/pandas-docs/stable/user_guide/indexing.html#returning-a-view-versus-a-copy\n",
      "  return super().drop(\n"
     ]
    }
   ],
   "source": [
    "num_data = df_large.select_dtypes('number')\n",
    "num_data.drop('popularity',inplace=True,axis=1)"
   ]
  },
  {
   "cell_type": "code",
   "execution_count": 99,
   "metadata": {},
   "outputs": [],
   "source": [
    "scaled_data = scaler.fit_transform(num_data)"
   ]
  },
  {
   "cell_type": "code",
   "execution_count": 100,
   "metadata": {},
   "outputs": [],
   "source": [
    "pca = PCA().fit(scaled_data)"
   ]
  },
  {
   "cell_type": "code",
   "execution_count": 101,
   "metadata": {},
   "outputs": [
    {
     "data": {
      "text/plain": [
       "0.8127899073612093"
      ]
     },
     "execution_count": 101,
     "metadata": {},
     "output_type": "execute_result"
    }
   ],
   "source": [
    "sum(pca.explained_variance_ratio_[:8])"
   ]
  },
  {
   "cell_type": "code",
   "execution_count": 102,
   "metadata": {},
   "outputs": [],
   "source": [
    "pca_data = pca.transform(scaled_data)"
   ]
  },
  {
   "cell_type": "code",
   "execution_count": 103,
   "metadata": {},
   "outputs": [
    {
     "data": {
      "text/plain": [
       "(20000, 14)"
      ]
     },
     "execution_count": 103,
     "metadata": {},
     "output_type": "execute_result"
    }
   ],
   "source": [
    "pca_data.shape"
   ]
  },
  {
   "cell_type": "code",
   "execution_count": 104,
   "metadata": {},
   "outputs": [],
   "source": [
    "# get pairwise distances from array or df\n",
    "song_similarities = pairwise_distances(pca_data[:,:8])"
   ]
  },
  {
   "cell_type": "code",
   "execution_count": 105,
   "metadata": {},
   "outputs": [
    {
     "data": {
      "text/plain": [
       "(20000, 20000)"
      ]
     },
     "execution_count": 105,
     "metadata": {},
     "output_type": "execute_result"
    }
   ],
   "source": [
    "song_similarities.shape"
   ]
  },
  {
   "cell_type": "code",
   "execution_count": 106,
   "metadata": {},
   "outputs": [],
   "source": [
    "song_dist_df = pd.DataFrame(song_similarities)"
   ]
  },
  {
   "cell_type": "code",
   "execution_count": 107,
   "metadata": {},
   "outputs": [
    {
     "data": {
      "text/plain": [
       "1.6910657507014797"
      ]
     },
     "execution_count": 107,
     "metadata": {},
     "output_type": "execute_result"
    }
   ],
   "source": [
    "# find the nth percentile distance so you can set the rest to zero\n",
    "np.percentile(np.array(song_dist_df[0]),1)"
   ]
  },
  {
   "cell_type": "code",
   "execution_count": 108,
   "metadata": {},
   "outputs": [],
   "source": [
    "# whatever the value is at that percentile, set everything above that equal to zero\n",
    "song_dist_df[song_dist_df>1.5] = 0"
   ]
  },
  {
   "cell_type": "code",
   "execution_count": 109,
   "metadata": {},
   "outputs": [],
   "source": [
    "import scipy.sparse"
   ]
  },
  {
   "cell_type": "code",
   "execution_count": 110,
   "metadata": {},
   "outputs": [],
   "source": [
    "# make sparse to save space\n",
    "sparse_mat = scipy.sparse.csc_matrix(song_dist_df)"
   ]
  },
  {
   "cell_type": "code",
   "execution_count": 111,
   "metadata": {},
   "outputs": [],
   "source": [
    "with open('../../lyric-nlp/song_similarities_sparse.pickle','wb') as out:\n",
    "    pickle.dump(sparse_mat,out)"
   ]
  },
  {
   "cell_type": "code",
   "execution_count": null,
   "metadata": {},
   "outputs": [],
   "source": [
    "# find the index of a given song\n",
    "df[(df.song_name=='Bat Country') & (df.artist_name=='Avenged Sevenfold')].index"
   ]
  },
  {
   "cell_type": "code",
   "execution_count": 113,
   "metadata": {},
   "outputs": [],
   "source": [
    "# get the 20 closest songs by index to the given song\n",
    "result = pd.DataFrame(sparse_mat[:,445].toarray()).sort_values(by=0,ascending=False).head(20).index"
   ]
  },
  {
   "cell_type": "code",
   "execution_count": 114,
   "metadata": {},
   "outputs": [
    {
     "data": {
      "text/html": [
       "<div>\n",
       "<style scoped>\n",
       "    .dataframe tbody tr th:only-of-type {\n",
       "        vertical-align: middle;\n",
       "    }\n",
       "\n",
       "    .dataframe tbody tr th {\n",
       "        vertical-align: top;\n",
       "    }\n",
       "\n",
       "    .dataframe thead th {\n",
       "        text-align: right;\n",
       "    }\n",
       "</style>\n",
       "<table border=\"1\" class=\"dataframe\">\n",
       "  <thead>\n",
       "    <tr style=\"text-align: right;\">\n",
       "      <th></th>\n",
       "      <th>song_name</th>\n",
       "      <th>artist_name</th>\n",
       "      <th>album_name</th>\n",
       "      <th>popularity</th>\n",
       "      <th>link</th>\n",
       "    </tr>\n",
       "  </thead>\n",
       "  <tbody>\n",
       "    <tr>\n",
       "      <th>999</th>\n",
       "      <td>Runaway</td>\n",
       "      <td>Linkin Park</td>\n",
       "      <td>Hybrid Theory (Bonus Edition)</td>\n",
       "      <td>64</td>\n",
       "      <td>https://open.spotify.com/track/6xtQ23d8GEXgcxy...</td>\n",
       "    </tr>\n",
       "    <tr>\n",
       "      <th>1042</th>\n",
       "      <td>Red Beam (feat. Sean Kingston)</td>\n",
       "      <td>Trippie Redd</td>\n",
       "      <td>Pegasus</td>\n",
       "      <td>63</td>\n",
       "      <td>https://open.spotify.com/track/1xyCNQC00FGkQdY...</td>\n",
       "    </tr>\n",
       "    <tr>\n",
       "      <th>2081</th>\n",
       "      <td>Moving On</td>\n",
       "      <td>Asking Alexandria</td>\n",
       "      <td>From Death To Destiny</td>\n",
       "      <td>58</td>\n",
       "      <td>https://open.spotify.com/track/7IiqF2tYiixnpBc...</td>\n",
       "    </tr>\n",
       "    <tr>\n",
       "      <th>4446</th>\n",
       "      <td>Weathered</td>\n",
       "      <td>Creed</td>\n",
       "      <td>Weathered</td>\n",
       "      <td>51</td>\n",
       "      <td>https://open.spotify.com/track/33P0xVFGIPfCB2Z...</td>\n",
       "    </tr>\n",
       "    <tr>\n",
       "      <th>5529</th>\n",
       "      <td>Here Without You - Acoustic</td>\n",
       "      <td>3 Doors Down</td>\n",
       "      <td>Here Without You (Acoustic)</td>\n",
       "      <td>49</td>\n",
       "      <td>https://open.spotify.com/track/2HIU8kiFo9sB5ih...</td>\n",
       "    </tr>\n",
       "    <tr>\n",
       "      <th>5713</th>\n",
       "      <td>City Is Ours</td>\n",
       "      <td>Big Time Rush</td>\n",
       "      <td>BTR</td>\n",
       "      <td>48</td>\n",
       "      <td>https://open.spotify.com/track/2UI9qShtz4xwB4B...</td>\n",
       "    </tr>\n",
       "    <tr>\n",
       "      <th>6423</th>\n",
       "      <td>In My Sword I Trust</td>\n",
       "      <td>Ensiferum</td>\n",
       "      <td>Unsung Heroes</td>\n",
       "      <td>47</td>\n",
       "      <td>https://open.spotify.com/track/54eGNQCFTHq0q9d...</td>\n",
       "    </tr>\n",
       "    <tr>\n",
       "      <th>8248</th>\n",
       "      <td>Bato Sa Buhangin</td>\n",
       "      <td>Cinderella</td>\n",
       "      <td>Sce: T.L Ako Sa'yo</td>\n",
       "      <td>44</td>\n",
       "      <td>https://open.spotify.com/track/4hIQjUWvzYYviDq...</td>\n",
       "    </tr>\n",
       "    <tr>\n",
       "      <th>9481</th>\n",
       "      <td>Savior</td>\n",
       "      <td>Any Given Day</td>\n",
       "      <td>Overpower</td>\n",
       "      <td>43</td>\n",
       "      <td>https://open.spotify.com/track/2d1ZaZ3XjkTP43N...</td>\n",
       "    </tr>\n",
       "    <tr>\n",
       "      <th>11409</th>\n",
       "      <td>Failed Hope</td>\n",
       "      <td>Slaughter to Prevail</td>\n",
       "      <td>Misery Sermon</td>\n",
       "      <td>40</td>\n",
       "      <td>https://open.spotify.com/track/61IdfYsnIuNtlPu...</td>\n",
       "    </tr>\n",
       "  </tbody>\n",
       "</table>\n",
       "</div>"
      ],
      "text/plain": [
       "                            song_name           artist_name  \\\n",
       "999                           Runaway           Linkin Park   \n",
       "1042   Red Beam (feat. Sean Kingston)          Trippie Redd   \n",
       "2081                        Moving On     Asking Alexandria   \n",
       "4446                        Weathered                 Creed   \n",
       "5529      Here Without You - Acoustic          3 Doors Down   \n",
       "5713                     City Is Ours         Big Time Rush   \n",
       "6423              In My Sword I Trust             Ensiferum   \n",
       "8248                 Bato Sa Buhangin            Cinderella   \n",
       "9481                           Savior         Any Given Day   \n",
       "11409                     Failed Hope  Slaughter to Prevail   \n",
       "\n",
       "                          album_name  popularity  \\\n",
       "999    Hybrid Theory (Bonus Edition)          64   \n",
       "1042                         Pegasus          63   \n",
       "2081           From Death To Destiny          58   \n",
       "4446                       Weathered          51   \n",
       "5529     Here Without You (Acoustic)          49   \n",
       "5713                             BTR          48   \n",
       "6423                   Unsung Heroes          47   \n",
       "8248              Sce: T.L Ako Sa'yo          44   \n",
       "9481                       Overpower          43   \n",
       "11409                  Misery Sermon          40   \n",
       "\n",
       "                                                    link  \n",
       "999    https://open.spotify.com/track/6xtQ23d8GEXgcxy...  \n",
       "1042   https://open.spotify.com/track/1xyCNQC00FGkQdY...  \n",
       "2081   https://open.spotify.com/track/7IiqF2tYiixnpBc...  \n",
       "4446   https://open.spotify.com/track/33P0xVFGIPfCB2Z...  \n",
       "5529   https://open.spotify.com/track/2HIU8kiFo9sB5ih...  \n",
       "5713   https://open.spotify.com/track/2UI9qShtz4xwB4B...  \n",
       "6423   https://open.spotify.com/track/54eGNQCFTHq0q9d...  \n",
       "8248   https://open.spotify.com/track/4hIQjUWvzYYviDq...  \n",
       "9481   https://open.spotify.com/track/2d1ZaZ3XjkTP43N...  \n",
       "11409  https://open.spotify.com/track/61IdfYsnIuNtlPu...  "
      ]
     },
     "execution_count": 114,
     "metadata": {},
     "output_type": "execute_result"
    }
   ],
   "source": [
    "# locate the closest songs in df and accompanying info\n",
    "df.iloc[result,:].sort_values('popularity',ascending=False).head(10)"
   ]
  },
  {
   "cell_type": "code",
   "execution_count": null,
   "metadata": {},
   "outputs": [],
   "source": [
    "artist_scores = df.groupby('artist_name')[['scores','popularity']].mean().reset_index().sort_values('scores',ascending=False).reset_index(drop=True)\n",
    "artist_scores"
   ]
  },
  {
   "cell_type": "code",
   "execution_count": 115,
   "metadata": {},
   "outputs": [
    {
     "data": {
      "text/html": [
       "<div>\n",
       "<style scoped>\n",
       "    .dataframe tbody tr th:only-of-type {\n",
       "        vertical-align: middle;\n",
       "    }\n",
       "\n",
       "    .dataframe tbody tr th {\n",
       "        vertical-align: top;\n",
       "    }\n",
       "\n",
       "    .dataframe thead th {\n",
       "        text-align: right;\n",
       "    }\n",
       "</style>\n",
       "<table border=\"1\" class=\"dataframe\">\n",
       "  <thead>\n",
       "    <tr style=\"text-align: right;\">\n",
       "      <th></th>\n",
       "      <th>id</th>\n",
       "      <th>song_name</th>\n",
       "      <th>artist_name</th>\n",
       "      <th>album_name</th>\n",
       "      <th>popularity</th>\n",
       "      <th>duration_ms_x</th>\n",
       "      <th>explicit</th>\n",
       "      <th>link</th>\n",
       "      <th>danceability</th>\n",
       "      <th>energy</th>\n",
       "      <th>...</th>\n",
       "      <th>instrumentalness</th>\n",
       "      <th>liveness</th>\n",
       "      <th>valence</th>\n",
       "      <th>tempo</th>\n",
       "      <th>type</th>\n",
       "      <th>uri</th>\n",
       "      <th>track_href</th>\n",
       "      <th>analysis_url</th>\n",
       "      <th>duration_ms_y</th>\n",
       "      <th>time_signature</th>\n",
       "    </tr>\n",
       "  </thead>\n",
       "  <tbody>\n",
       "    <tr>\n",
       "      <th>0</th>\n",
       "      <td>4ZRrLHqzhGRXYj2qcB4s5S</td>\n",
       "      <td>Tattoo - Remix with Camilo</td>\n",
       "      <td>Rauw Alejandro</td>\n",
       "      <td>Tattoo (Remix with Camilo)</td>\n",
       "      <td>91</td>\n",
       "      <td>222680</td>\n",
       "      <td>False</td>\n",
       "      <td>https://open.spotify.com/track/4ZRrLHqzhGRXYj2...</td>\n",
       "      <td>0.848</td>\n",
       "      <td>0.637</td>\n",
       "      <td>...</td>\n",
       "      <td>0.000000</td>\n",
       "      <td>0.0521</td>\n",
       "      <td>0.698</td>\n",
       "      <td>96.988</td>\n",
       "      <td>audio_features</td>\n",
       "      <td>spotify:track:4ZRrLHqzhGRXYj2qcB4s5S</td>\n",
       "      <td>https://api.spotify.com/v1/tracks/4ZRrLHqzhGRX...</td>\n",
       "      <td>https://api.spotify.com/v1/audio-analysis/4ZRr...</td>\n",
       "      <td>222680</td>\n",
       "      <td>4</td>\n",
       "    </tr>\n",
       "    <tr>\n",
       "      <th>1</th>\n",
       "      <td>3ThrfRAmijYU098H9q9tAs</td>\n",
       "      <td>Enchule</td>\n",
       "      <td>Rauw Alejandro</td>\n",
       "      <td>Enchule</td>\n",
       "      <td>85</td>\n",
       "      <td>185718</td>\n",
       "      <td>False</td>\n",
       "      <td>https://open.spotify.com/track/3ThrfRAmijYU098...</td>\n",
       "      <td>0.763</td>\n",
       "      <td>0.666</td>\n",
       "      <td>...</td>\n",
       "      <td>0.000000</td>\n",
       "      <td>0.3010</td>\n",
       "      <td>0.587</td>\n",
       "      <td>90.086</td>\n",
       "      <td>audio_features</td>\n",
       "      <td>spotify:track:3ThrfRAmijYU098H9q9tAs</td>\n",
       "      <td>https://api.spotify.com/v1/tracks/3ThrfRAmijYU...</td>\n",
       "      <td>https://api.spotify.com/v1/audio-analysis/3Thr...</td>\n",
       "      <td>185719</td>\n",
       "      <td>4</td>\n",
       "    </tr>\n",
       "    <tr>\n",
       "      <th>2</th>\n",
       "      <td>50ZC4PM7hywH27RcCfViau</td>\n",
       "      <td>Elegí (feat. Dímelo Flow)</td>\n",
       "      <td>Rauw Alejandro</td>\n",
       "      <td>Elegí (feat. Dímelo Flow)</td>\n",
       "      <td>85</td>\n",
       "      <td>197721</td>\n",
       "      <td>False</td>\n",
       "      <td>https://open.spotify.com/track/50ZC4PM7hywH27R...</td>\n",
       "      <td>0.824</td>\n",
       "      <td>0.631</td>\n",
       "      <td>...</td>\n",
       "      <td>0.000116</td>\n",
       "      <td>0.0531</td>\n",
       "      <td>0.678</td>\n",
       "      <td>171.965</td>\n",
       "      <td>audio_features</td>\n",
       "      <td>spotify:track:50ZC4PM7hywH27RcCfViau</td>\n",
       "      <td>https://api.spotify.com/v1/tracks/50ZC4PM7hywH...</td>\n",
       "      <td>https://api.spotify.com/v1/audio-analysis/50ZC...</td>\n",
       "      <td>197721</td>\n",
       "      <td>4</td>\n",
       "    </tr>\n",
       "    <tr>\n",
       "      <th>3</th>\n",
       "      <td>60a0Rd6pjrkxjPbaKzXjfq</td>\n",
       "      <td>In the End</td>\n",
       "      <td>Linkin Park</td>\n",
       "      <td>Hybrid Theory (Bonus Edition)</td>\n",
       "      <td>84</td>\n",
       "      <td>216880</td>\n",
       "      <td>False</td>\n",
       "      <td>https://open.spotify.com/track/60a0Rd6pjrkxjPb...</td>\n",
       "      <td>0.556</td>\n",
       "      <td>0.864</td>\n",
       "      <td>...</td>\n",
       "      <td>0.000000</td>\n",
       "      <td>0.2090</td>\n",
       "      <td>0.400</td>\n",
       "      <td>105.143</td>\n",
       "      <td>audio_features</td>\n",
       "      <td>spotify:track:60a0Rd6pjrkxjPbaKzXjfq</td>\n",
       "      <td>https://api.spotify.com/v1/tracks/60a0Rd6pjrkx...</td>\n",
       "      <td>https://api.spotify.com/v1/audio-analysis/60a0...</td>\n",
       "      <td>216880</td>\n",
       "      <td>4</td>\n",
       "    </tr>\n",
       "    <tr>\n",
       "      <th>4</th>\n",
       "      <td>75JFxkI2RXiU7L9VXzMkle</td>\n",
       "      <td>The Scientist</td>\n",
       "      <td>Coldplay</td>\n",
       "      <td>A Rush of Blood to the Head</td>\n",
       "      <td>84</td>\n",
       "      <td>309600</td>\n",
       "      <td>False</td>\n",
       "      <td>https://open.spotify.com/track/75JFxkI2RXiU7L9...</td>\n",
       "      <td>0.557</td>\n",
       "      <td>0.442</td>\n",
       "      <td>...</td>\n",
       "      <td>0.000015</td>\n",
       "      <td>0.1100</td>\n",
       "      <td>0.213</td>\n",
       "      <td>146.277</td>\n",
       "      <td>audio_features</td>\n",
       "      <td>spotify:track:75JFxkI2RXiU7L9VXzMkle</td>\n",
       "      <td>https://api.spotify.com/v1/tracks/75JFxkI2RXiU...</td>\n",
       "      <td>https://api.spotify.com/v1/audio-analysis/75JF...</td>\n",
       "      <td>309600</td>\n",
       "      <td>4</td>\n",
       "    </tr>\n",
       "  </tbody>\n",
       "</table>\n",
       "<p>5 rows × 25 columns</p>\n",
       "</div>"
      ],
      "text/plain": [
       "                       id                   song_name     artist_name  \\\n",
       "0  4ZRrLHqzhGRXYj2qcB4s5S  Tattoo - Remix with Camilo  Rauw Alejandro   \n",
       "1  3ThrfRAmijYU098H9q9tAs                     Enchule  Rauw Alejandro   \n",
       "2  50ZC4PM7hywH27RcCfViau   Elegí (feat. Dímelo Flow)  Rauw Alejandro   \n",
       "3  60a0Rd6pjrkxjPbaKzXjfq                  In the End     Linkin Park   \n",
       "4  75JFxkI2RXiU7L9VXzMkle               The Scientist        Coldplay   \n",
       "\n",
       "                      album_name  popularity  duration_ms_x  explicit  \\\n",
       "0     Tattoo (Remix with Camilo)          91         222680     False   \n",
       "1                        Enchule          85         185718     False   \n",
       "2      Elegí (feat. Dímelo Flow)          85         197721     False   \n",
       "3  Hybrid Theory (Bonus Edition)          84         216880     False   \n",
       "4    A Rush of Blood to the Head          84         309600     False   \n",
       "\n",
       "                                                link  danceability  energy  \\\n",
       "0  https://open.spotify.com/track/4ZRrLHqzhGRXYj2...         0.848   0.637   \n",
       "1  https://open.spotify.com/track/3ThrfRAmijYU098...         0.763   0.666   \n",
       "2  https://open.spotify.com/track/50ZC4PM7hywH27R...         0.824   0.631   \n",
       "3  https://open.spotify.com/track/60a0Rd6pjrkxjPb...         0.556   0.864   \n",
       "4  https://open.spotify.com/track/75JFxkI2RXiU7L9...         0.557   0.442   \n",
       "\n",
       "   ...  instrumentalness  liveness  valence    tempo            type  \\\n",
       "0  ...          0.000000    0.0521    0.698   96.988  audio_features   \n",
       "1  ...          0.000000    0.3010    0.587   90.086  audio_features   \n",
       "2  ...          0.000116    0.0531    0.678  171.965  audio_features   \n",
       "3  ...          0.000000    0.2090    0.400  105.143  audio_features   \n",
       "4  ...          0.000015    0.1100    0.213  146.277  audio_features   \n",
       "\n",
       "                                    uri  \\\n",
       "0  spotify:track:4ZRrLHqzhGRXYj2qcB4s5S   \n",
       "1  spotify:track:3ThrfRAmijYU098H9q9tAs   \n",
       "2  spotify:track:50ZC4PM7hywH27RcCfViau   \n",
       "3  spotify:track:60a0Rd6pjrkxjPbaKzXjfq   \n",
       "4  spotify:track:75JFxkI2RXiU7L9VXzMkle   \n",
       "\n",
       "                                          track_href  \\\n",
       "0  https://api.spotify.com/v1/tracks/4ZRrLHqzhGRX...   \n",
       "1  https://api.spotify.com/v1/tracks/3ThrfRAmijYU...   \n",
       "2  https://api.spotify.com/v1/tracks/50ZC4PM7hywH...   \n",
       "3  https://api.spotify.com/v1/tracks/60a0Rd6pjrkx...   \n",
       "4  https://api.spotify.com/v1/tracks/75JFxkI2RXiU...   \n",
       "\n",
       "                                        analysis_url  duration_ms_y  \\\n",
       "0  https://api.spotify.com/v1/audio-analysis/4ZRr...         222680   \n",
       "1  https://api.spotify.com/v1/audio-analysis/3Thr...         185719   \n",
       "2  https://api.spotify.com/v1/audio-analysis/50ZC...         197721   \n",
       "3  https://api.spotify.com/v1/audio-analysis/60a0...         216880   \n",
       "4  https://api.spotify.com/v1/audio-analysis/75JF...         309600   \n",
       "\n",
       "  time_signature  \n",
       "0              4  \n",
       "1              4  \n",
       "2              4  \n",
       "3              4  \n",
       "4              4  \n",
       "\n",
       "[5 rows x 25 columns]"
      ]
     },
     "execution_count": 115,
     "metadata": {},
     "output_type": "execute_result"
    }
   ],
   "source": [
    "df_large.head()"
   ]
  },
  {
   "cell_type": "markdown",
   "metadata": {},
   "source": [
    "### By Artist\n",
    "\n",
    "Now I do the same thing but aggregating to the artist level."
   ]
  },
  {
   "cell_type": "code",
   "execution_count": 178,
   "metadata": {},
   "outputs": [],
   "source": [
    "artist_scores = df_large.groupby('artist_name').mean()"
   ]
  },
  {
   "cell_type": "code",
   "execution_count": 179,
   "metadata": {},
   "outputs": [],
   "source": [
    "# remove non-metal artists (I don't know how they came up in a Spotify search for genre=metal)\n",
    "\n",
    "artist_scores.drop(['Rauw Alejandro','Jowell & Randy','Rachel Platten',\"Rag'n'Bone Man\",\n",
    "                   'Lenin Ramírez','Au/Ra','Hot Chelle Rae','Don Omar','Rae Sremmurd','girl in red',\n",
    "                   'Corinne Bailey Rae','Ray Parker Jr.','Elle King','Omarion','Leona Lewis','Chance the Rapper',\n",
    "                   'Lin-Manuel Miranda','White Noise Baby Sleep','Ray LaMontagne','Rain Sounds','The Weeknd',\n",
    "                   'Rain Sounds For Sleep','RaeLynn','Carin Leon','Rascal Flatts','Isaiah Rashad','Ray J',\n",
    "                   'Céline Dion','Baby Sleep','Taylor Ray Holbrook','Vancouver Sleep Clinic',\"Tmsoft’s White Noise Sleep Sounds\",\n",
    "                   'Nelson Haynes','Sleepy Clouds','Léon Branche','Deep Sleep Music Collective','Sleep Baby Sleep',\n",
    "                   'Sleep Tentacles','White Noise Therapy','Binaural Beats Sleep','The Sound Designers','Pathfinder',\n",
    "                   'Nile While','Jalen Tyree','Duncan Honeybourne','Thelonious Monk','Mrm Team','Oceanografers'],axis=0,inplace=True)"
   ]
  },
  {
   "cell_type": "markdown",
   "metadata": {},
   "source": [
    "Perform the same steps as before, this time using more principal components because there is far less data.\n",
    "\n",
    "1. scale and perform PCA\n",
    "2. calculate pairwise distances between artists\n",
    "3. turn to sparse matrix\n",
    "4. obtain input of an artist and find index of that artist\n",
    "5. find n closest artists to that index\n",
    "6. pass that result back to the dataframe and return information"
   ]
  },
  {
   "cell_type": "code",
   "execution_count": 180,
   "metadata": {},
   "outputs": [],
   "source": [
    "scaled_artist_data = scaler.fit(artist_scores)\n",
    "scaled_artist_data = scaler.transform(artist_scores)"
   ]
  },
  {
   "cell_type": "code",
   "execution_count": 181,
   "metadata": {},
   "outputs": [],
   "source": [
    "pca_artist = PCA().fit(scaled_artist_data)"
   ]
  },
  {
   "cell_type": "code",
   "execution_count": 182,
   "metadata": {},
   "outputs": [],
   "source": [
    "pca_artist_data = pca_artist.transform(scaled_artist_data)"
   ]
  },
  {
   "cell_type": "code",
   "execution_count": 183,
   "metadata": {},
   "outputs": [
    {
     "data": {
      "text/plain": [
       "0.9533864611086745"
      ]
     },
     "execution_count": 183,
     "metadata": {},
     "output_type": "execute_result"
    }
   ],
   "source": [
    "sum(pca_artist.explained_variance_ratio_[:12])"
   ]
  },
  {
   "cell_type": "code",
   "execution_count": 184,
   "metadata": {},
   "outputs": [],
   "source": [
    "artist_distances = pairwise_distances(pca_artist_data[:,:12])"
   ]
  },
  {
   "cell_type": "code",
   "execution_count": 185,
   "metadata": {},
   "outputs": [
    {
     "data": {
      "text/plain": [
       "(1796, 1796)"
      ]
     },
     "execution_count": 185,
     "metadata": {},
     "output_type": "execute_result"
    }
   ],
   "source": [
    "artist_distances.shape"
   ]
  },
  {
   "cell_type": "code",
   "execution_count": 186,
   "metadata": {},
   "outputs": [],
   "source": [
    "sparse_artists = scipy.sparse.csc_matrix(artist_distances)"
   ]
  },
  {
   "cell_type": "code",
   "execution_count": 187,
   "metadata": {},
   "outputs": [],
   "source": [
    "with open('../../lyric-nlp/artists_sparse.pickle','wb') as out:\n",
    "    pickle.dump(sparse_artists,out)"
   ]
  },
  {
   "cell_type": "code",
   "execution_count": null,
   "metadata": {},
   "outputs": [],
   "source": [
    "ind = save[save.artist_name=='Metallica'].index"
   ]
  },
  {
   "cell_type": "code",
   "execution_count": 196,
   "metadata": {},
   "outputs": [],
   "source": [
    "result = pd.DataFrame(sparse_artists[:,960].toarray()).sort_values(by=0,ascending=False).head(20).index"
   ]
  },
  {
   "cell_type": "code",
   "execution_count": 189,
   "metadata": {},
   "outputs": [],
   "source": [
    "save = artist_scores.reset_index()[['artist_name','popularity']]"
   ]
  },
  {
   "cell_type": "code",
   "execution_count": 197,
   "metadata": {},
   "outputs": [
    {
     "data": {
      "text/html": [
       "<div>\n",
       "<style scoped>\n",
       "    .dataframe tbody tr th:only-of-type {\n",
       "        vertical-align: middle;\n",
       "    }\n",
       "\n",
       "    .dataframe tbody tr th {\n",
       "        vertical-align: top;\n",
       "    }\n",
       "\n",
       "    .dataframe thead th {\n",
       "        text-align: right;\n",
       "    }\n",
       "</style>\n",
       "<table border=\"1\" class=\"dataframe\">\n",
       "  <thead>\n",
       "    <tr style=\"text-align: right;\">\n",
       "      <th></th>\n",
       "      <th>artist_name</th>\n",
       "      <th>popularity</th>\n",
       "    </tr>\n",
       "  </thead>\n",
       "  <tbody>\n",
       "    <tr>\n",
       "      <th>1349</th>\n",
       "      <td>Sounds Of Nature : Thunderstorm, Rain</td>\n",
       "      <td>55.0</td>\n",
       "    </tr>\n",
       "    <tr>\n",
       "      <th>1366</th>\n",
       "      <td>Stephen Barton</td>\n",
       "      <td>36.0</td>\n",
       "    </tr>\n",
       "    <tr>\n",
       "      <th>1794</th>\n",
       "      <td>Æther Realm</td>\n",
       "      <td>35.0</td>\n",
       "    </tr>\n",
       "    <tr>\n",
       "      <th>1761</th>\n",
       "      <td>YPC Next Level</td>\n",
       "      <td>33.0</td>\n",
       "    </tr>\n",
       "    <tr>\n",
       "      <th>926</th>\n",
       "      <td>Lucid Nightmare</td>\n",
       "      <td>38.0</td>\n",
       "    </tr>\n",
       "    <tr>\n",
       "      <th>1480</th>\n",
       "      <td>The Haunted House of Horror Sound Effects</td>\n",
       "      <td>35.0</td>\n",
       "    </tr>\n",
       "    <tr>\n",
       "      <th>696</th>\n",
       "      <td>Hypnosis Therapy</td>\n",
       "      <td>37.0</td>\n",
       "    </tr>\n",
       "    <tr>\n",
       "      <th>1168</th>\n",
       "      <td>Rain Sounds Dreamer</td>\n",
       "      <td>39.0</td>\n",
       "    </tr>\n",
       "    <tr>\n",
       "      <th>19</th>\n",
       "      <td>A Winged Victory for the Sullen</td>\n",
       "      <td>35.0</td>\n",
       "    </tr>\n",
       "    <tr>\n",
       "      <th>577</th>\n",
       "      <td>Flawless2k</td>\n",
       "      <td>33.0</td>\n",
       "    </tr>\n",
       "  </tbody>\n",
       "</table>\n",
       "</div>"
      ],
      "text/plain": [
       "                                    artist_name  popularity\n",
       "1349      Sounds Of Nature : Thunderstorm, Rain        55.0\n",
       "1366                             Stephen Barton        36.0\n",
       "1794                                Æther Realm        35.0\n",
       "1761                             YPC Next Level        33.0\n",
       "926                             Lucid Nightmare        38.0\n",
       "1480  The Haunted House of Horror Sound Effects        35.0\n",
       "696                            Hypnosis Therapy        37.0\n",
       "1168                        Rain Sounds Dreamer        39.0\n",
       "19              A Winged Victory for the Sullen        35.0\n",
       "577                                  Flawless2k        33.0"
      ]
     },
     "execution_count": 197,
     "metadata": {},
     "output_type": "execute_result"
    }
   ],
   "source": [
    "save.iloc[result,:].head(10)"
   ]
  }
 ],
 "metadata": {
  "kernelspec": {
   "display_name": "Python 3",
   "language": "python",
   "name": "python3"
  },
  "language_info": {
   "codemirror_mode": {
    "name": "ipython",
    "version": 3
   },
   "file_extension": ".py",
   "mimetype": "text/x-python",
   "name": "python",
   "nbconvert_exporter": "python",
   "pygments_lexer": "ipython3",
   "version": "3.8.2"
  }
 },
 "nbformat": 4,
 "nbformat_minor": 4
}
