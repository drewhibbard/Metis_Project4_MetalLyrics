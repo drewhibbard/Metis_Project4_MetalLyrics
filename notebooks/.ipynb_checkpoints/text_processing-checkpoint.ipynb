{
 "cells": [
  {
   "cell_type": "markdown",
   "metadata": {},
   "source": [
    "# Text Processing\n",
    "\n",
    "This notebook begins with raw text data and cleans it, resulting in a Document-Term matrix and a TFIDF matrix, saved for later use."
   ]
  },
  {
   "cell_type": "code",
   "execution_count": 1,
   "metadata": {},
   "outputs": [],
   "source": [
    "import json\n",
    "import os\n",
    "import pickle\n",
    "import pandas as pd\n",
    "import numpy as np\n",
    "from sklearn.feature_extraction.text import CountVectorizer, TfidfVectorizer\n",
    "import nltk\n",
    "from sklearn.decomposition import LatentDirichletAllocation\n",
    "import sys\n",
    "sys.path.append('../')\n",
    "import lyrics_grab"
   ]
  },
  {
   "cell_type": "code",
   "execution_count": 2,
   "metadata": {},
   "outputs": [],
   "source": [
    "with open('../data/metal_artists.pickle','rb') as rf:\n",
    "    metal = pickle.load(rf)\n",
    "    \n",
    "with open('../data/rock_artists.pickle','rb') as rf:\n",
    "    rock = pickle.load(rf)"
   ]
  },
  {
   "cell_type": "code",
   "execution_count": 3,
   "metadata": {},
   "outputs": [
    {
     "data": {
      "text/plain": [
       "50041"
      ]
     },
     "execution_count": 3,
     "metadata": {},
     "output_type": "execute_result"
    }
   ],
   "source": [
    "len(metal)"
   ]
  },
  {
   "cell_type": "code",
   "execution_count": 4,
   "metadata": {},
   "outputs": [],
   "source": [
    "df_metal = pd.DataFrame(metal)\n",
    "df_rock = pd.DataFrame(rock)"
   ]
  },
  {
   "cell_type": "code",
   "execution_count": 5,
   "metadata": {},
   "outputs": [
    {
     "data": {
      "text/html": [
       "<div>\n",
       "<style scoped>\n",
       "    .dataframe tbody tr th:only-of-type {\n",
       "        vertical-align: middle;\n",
       "    }\n",
       "\n",
       "    .dataframe tbody tr th {\n",
       "        vertical-align: top;\n",
       "    }\n",
       "\n",
       "    .dataframe thead th {\n",
       "        text-align: right;\n",
       "    }\n",
       "</style>\n",
       "<table border=\"1\" class=\"dataframe\">\n",
       "  <thead>\n",
       "    <tr style=\"text-align: right;\">\n",
       "      <th></th>\n",
       "      <th>artist_name</th>\n",
       "      <th>release_date</th>\n",
       "      <th>page_views</th>\n",
       "      <th>song_title</th>\n",
       "      <th>album_name</th>\n",
       "      <th>spotify_url</th>\n",
       "      <th>lyrics</th>\n",
       "    </tr>\n",
       "  </thead>\n",
       "  <tbody>\n",
       "    <tr>\n",
       "      <th>0</th>\n",
       "      <td>Kreator</td>\n",
       "      <td>2016-12-16</td>\n",
       "      <td>13775</td>\n",
       "      <td>Satan Is Real</td>\n",
       "      <td>Gods of Violence</td>\n",
       "      <td>nan</td>\n",
       "      <td>Martyrs\\nYou cannot kill us all\\nVengeance wil...</td>\n",
       "    </tr>\n",
       "    <tr>\n",
       "      <th>1</th>\n",
       "      <td>Kreator</td>\n",
       "      <td>1986-11-01</td>\n",
       "      <td>8745</td>\n",
       "      <td>Pleasure to Kill</td>\n",
       "      <td>Pleasure to Kill</td>\n",
       "      <td>nan</td>\n",
       "      <td>Day turns to night as I rise from my grave\\nBl...</td>\n",
       "    </tr>\n",
       "    <tr>\n",
       "      <th>2</th>\n",
       "      <td>Kreator</td>\n",
       "      <td>None</td>\n",
       "      <td>5037</td>\n",
       "      <td>Enemy Of God</td>\n",
       "      <td>Enemy Of God</td>\n",
       "      <td>nan</td>\n",
       "      <td>Shocked Orwellian races, gather united in grie...</td>\n",
       "    </tr>\n",
       "    <tr>\n",
       "      <th>3</th>\n",
       "      <td>Kreator</td>\n",
       "      <td>2017-01-27</td>\n",
       "      <td>0</td>\n",
       "      <td>Fallen Brother</td>\n",
       "      <td>Gods of Violence</td>\n",
       "      <td>nan</td>\n",
       "      <td>[Instrumental Intro]\\n\\nMuch too young you had...</td>\n",
       "    </tr>\n",
       "    <tr>\n",
       "      <th>4</th>\n",
       "      <td>Kreator</td>\n",
       "      <td>2017-01-27</td>\n",
       "      <td>0</td>\n",
       "      <td>Totalitarian Terror</td>\n",
       "      <td>Gods of Violence</td>\n",
       "      <td>nan</td>\n",
       "      <td>Come experience hate like you never have befor...</td>\n",
       "    </tr>\n",
       "  </tbody>\n",
       "</table>\n",
       "</div>"
      ],
      "text/plain": [
       "  artist_name release_date  page_views           song_title        album_name  \\\n",
       "0     Kreator   2016-12-16       13775        Satan Is Real  Gods of Violence   \n",
       "1     Kreator   1986-11-01        8745     Pleasure to Kill  Pleasure to Kill   \n",
       "2     Kreator         None        5037         Enemy Of God      Enemy Of God   \n",
       "3     Kreator   2017-01-27           0       Fallen Brother  Gods of Violence   \n",
       "4     Kreator   2017-01-27           0  Totalitarian Terror  Gods of Violence   \n",
       "\n",
       "  spotify_url                                             lyrics  \n",
       "0         nan  Martyrs\\nYou cannot kill us all\\nVengeance wil...  \n",
       "1         nan  Day turns to night as I rise from my grave\\nBl...  \n",
       "2         nan  Shocked Orwellian races, gather united in grie...  \n",
       "3         nan  [Instrumental Intro]\\n\\nMuch too young you had...  \n",
       "4         nan  Come experience hate like you never have befor...  "
      ]
     },
     "execution_count": 5,
     "metadata": {},
     "output_type": "execute_result"
    }
   ],
   "source": [
    "df_metal.head()"
   ]
  },
  {
   "cell_type": "code",
   "execution_count": 6,
   "metadata": {},
   "outputs": [],
   "source": [
    "df_metal.dropna(subset=['lyrics'],inplace=True)\n",
    "df_rock.dropna(subset=['lyrics'],inplace=True)"
   ]
  },
  {
   "cell_type": "code",
   "execution_count": 7,
   "metadata": {},
   "outputs": [],
   "source": [
    "lyrics_metal = df_metal['lyrics']\n",
    "lyrics_rock = df_rock['lyrics']"
   ]
  },
  {
   "cell_type": "code",
   "execution_count": 8,
   "metadata": {},
   "outputs": [],
   "source": [
    "# add many extra stop words that to me didn't help identify topics and were getting in the way as top words\n",
    "\n",
    "extra_stop_words = ['ooh','something','chorus','verse','go','back','yeah','hey','get','gonna','let','wanna',\n",
    "                   'take','got','yo','uh','got','come','let','day','man','away','close','stay','em','set',\n",
    "                   'said','words','ones','oh','no','away','whoah','whoa','run','around','take','something',\n",
    "                   'know','like','never','one','see','way','want','say','make','instrumental','right','could',\n",
    "                   'inside','pre','think','still','find','tell','everything','keep','left','every','long',\n",
    "                   'would','head','bridge','look','ever','well','another','woah','walk','give','cause',\n",
    "                   'maybe','help','lay','open','stop','start','place','us','born','going','wake',\n",
    "                   'high','ride','raise','low','stand','upon','hands','land','shall','within','deep','new',\n",
    "                   'ah','ready','alright','side','name','two','three','round','song','seven','us','call',\n",
    "                   'old','six','white','la','ya','everybody','big','hit','give','cause','ha','gotta','stop',\n",
    "                   'play','put','boy','top','bout','de', 'en', 'sin', 'solo','refrain',\n",
    "                   'til','till']"
   ]
  },
  {
   "cell_type": "code",
   "execution_count": 9,
   "metadata": {},
   "outputs": [],
   "source": [
    "stop_words = nltk.corpus.stopwords.words('english') + extra_stop_words"
   ]
  },
  {
   "cell_type": "code",
   "execution_count": 10,
   "metadata": {},
   "outputs": [
    {
     "data": {
      "text/plain": [
       "1615"
      ]
     },
     "execution_count": 10,
     "metadata": {},
     "output_type": "execute_result"
    }
   ],
   "source": [
    "open('../data/stopwords.txt','w').write(' '.join(stop_words))"
   ]
  },
  {
   "cell_type": "code",
   "execution_count": 11,
   "metadata": {},
   "outputs": [],
   "source": [
    "# function for cleaning the text: removing punctuation, removing stop words, and removing non-english and \n",
    "# uncommon words by setting a minimum appearances value\n",
    "\n",
    "def vectorize(text,vectorizer='cv',min_df=0.01,stop_words=stop_words):\n",
    "    if vectorizer == 'cv':\n",
    "        v = CountVectorizer(stop_words=stop_words,min_df=min_df)\n",
    "    elif vectorizer == 'tfidf':\n",
    "        v = TfidfVectorizer(stop_words=stop_words,min_df=min_df)\n",
    "        \n",
    "    v_matrix = v.fit_transform(text)\n",
    "    \n",
    "    v_df = pd.DataFrame(v_matrix.toarray(),columns=v.get_feature_names())\n",
    "    \n",
    "    return v_df"
   ]
  },
  {
   "cell_type": "code",
   "execution_count": 14,
   "metadata": {},
   "outputs": [],
   "source": [
    "cv_df_metal = vectorize(lyrics_metal)"
   ]
  },
  {
   "cell_type": "code",
   "execution_count": 12,
   "metadata": {},
   "outputs": [],
   "source": [
    "cv_df_rock = vectorize(lyrics_rock)"
   ]
  },
  {
   "cell_type": "code",
   "execution_count": 15,
   "metadata": {},
   "outputs": [],
   "source": [
    "tfidf_df_metal = vectorize(lyrics_metal,'tfidf',min_df=0.01,stop_words=stop_words)\n",
    "tfidf_df_rock = vectorize(lyrics_rock,'tfidf',min_df=0.01,stop_words=stop_words)"
   ]
  },
  {
   "cell_type": "markdown",
   "metadata": {},
   "source": [
    "Perform Latent Dirichlet Allocation and visualize it with pyLDAvis.  It ended up working better with the regular count vectorizer rather than the TFIDF, interestingly."
   ]
  },
  {
   "cell_type": "code",
   "execution_count": 18,
   "metadata": {},
   "outputs": [
    {
     "data": {
      "text/plain": [
       "LatentDirichletAllocation(n_components=4, random_state=23)"
      ]
     },
     "execution_count": 18,
     "metadata": {},
     "output_type": "execute_result"
    }
   ],
   "source": [
    "lda_tf = LatentDirichletAllocation(n_components=4,random_state=23)\n",
    "lda_tf.fit(cv_df_metal)"
   ]
  },
  {
   "cell_type": "code",
   "execution_count": 24,
   "metadata": {},
   "outputs": [],
   "source": [
    "# lda_tfidf = LatentDirichletAllocation(n_components=8,random_state=23)\n",
    "# lda_tfidf.fit(tfidf_matrix)"
   ]
  },
  {
   "cell_type": "code",
   "execution_count": 19,
   "metadata": {},
   "outputs": [],
   "source": [
    "import pyLDAvis\n",
    "import pyLDAvis.sklearn"
   ]
  },
  {
   "cell_type": "code",
   "execution_count": 22,
   "metadata": {},
   "outputs": [
    {
     "name": "stderr",
     "output_type": "stream",
     "text": [
      "/Users/drewhibbard/anaconda3/lib/python3.8/site-packages/ipykernel/ipkernel.py:287: DeprecationWarning: `should_run_async` will not call `transform_cell` automatically in the future. Please pass the result to `transformed_cell` argument and any exception that happen during thetransform in `preprocessing_exc_tuple` in IPython 7.17 and above.\n",
      "  and should_run_async(code)\n"
     ]
    }
   ],
   "source": [
    "pyLDAvis.enable_notebook()\n",
    "vis = pyLDAvis.sklearn.prepare(lda_tf,cv_matrix,cv)\n",
    "# pyLDAvis.sklearn.prepare(lda_tfidf,tfidf_matrix,tfidf)\n",
    "pyLDAvis.save_html(vis,'lda.html')"
   ]
  },
  {
   "cell_type": "code",
   "execution_count": 16,
   "metadata": {},
   "outputs": [],
   "source": [
    "with open('../data/cv_df_metal.pickle','wb') as out:\n",
    "    pickle.dump(cv_df_metal,out)"
   ]
  },
  {
   "cell_type": "code",
   "execution_count": 17,
   "metadata": {},
   "outputs": [],
   "source": [
    "with open('../data/cv_df_rock.pickle','wb') as out:\n",
    "    pickle.dump(cv_df_rock,out)"
   ]
  },
  {
   "cell_type": "code",
   "execution_count": 18,
   "metadata": {},
   "outputs": [],
   "source": [
    "with open('../data/tfidf_df_metal.pickle','wb') as out:\n",
    "    pickle.dump(tfidf_df_metal,out)\n",
    "    \n",
    "with open('../data/tfidf_df_rock.pickle','wb') as out:\n",
    "    pickle.dump(tfidf_df_rock,out)"
   ]
  },
  {
   "cell_type": "code",
   "execution_count": 23,
   "metadata": {},
   "outputs": [],
   "source": [
    "with open('../data/topic_assignments.pickle','rb') as rf:\n",
    "    topic_assignments = pd.Series(pickle.load(rf))"
   ]
  },
  {
   "cell_type": "code",
   "execution_count": 24,
   "metadata": {},
   "outputs": [],
   "source": [
    "final_df = pd.concat([df_metal,topic_assignments],axis=1)"
   ]
  },
  {
   "cell_type": "code",
   "execution_count": 25,
   "metadata": {},
   "outputs": [
    {
     "data": {
      "text/html": [
       "<div>\n",
       "<style scoped>\n",
       "    .dataframe tbody tr th:only-of-type {\n",
       "        vertical-align: middle;\n",
       "    }\n",
       "\n",
       "    .dataframe tbody tr th {\n",
       "        vertical-align: top;\n",
       "    }\n",
       "\n",
       "    .dataframe thead th {\n",
       "        text-align: right;\n",
       "    }\n",
       "</style>\n",
       "<table border=\"1\" class=\"dataframe\">\n",
       "  <thead>\n",
       "    <tr style=\"text-align: right;\">\n",
       "      <th></th>\n",
       "      <th>artist_name</th>\n",
       "      <th>release_date</th>\n",
       "      <th>page_views</th>\n",
       "      <th>song_title</th>\n",
       "      <th>album_name</th>\n",
       "      <th>spotify_url</th>\n",
       "      <th>lyrics</th>\n",
       "      <th>0</th>\n",
       "    </tr>\n",
       "  </thead>\n",
       "  <tbody>\n",
       "    <tr>\n",
       "      <th>0</th>\n",
       "      <td>Kreator</td>\n",
       "      <td>2016-12-16</td>\n",
       "      <td>13775.0</td>\n",
       "      <td>Satan Is Real</td>\n",
       "      <td>Gods of Violence</td>\n",
       "      <td>nan</td>\n",
       "      <td>Martyrs\\nYou cannot kill us all\\nVengeance wil...</td>\n",
       "      <td>3.0</td>\n",
       "    </tr>\n",
       "    <tr>\n",
       "      <th>1</th>\n",
       "      <td>Kreator</td>\n",
       "      <td>1986-11-01</td>\n",
       "      <td>8745.0</td>\n",
       "      <td>Pleasure to Kill</td>\n",
       "      <td>Pleasure to Kill</td>\n",
       "      <td>nan</td>\n",
       "      <td>Day turns to night as I rise from my grave\\nBl...</td>\n",
       "      <td>2.0</td>\n",
       "    </tr>\n",
       "    <tr>\n",
       "      <th>2</th>\n",
       "      <td>Kreator</td>\n",
       "      <td>None</td>\n",
       "      <td>5037.0</td>\n",
       "      <td>Enemy Of God</td>\n",
       "      <td>Enemy Of God</td>\n",
       "      <td>nan</td>\n",
       "      <td>Shocked Orwellian races, gather united in grie...</td>\n",
       "      <td>0.0</td>\n",
       "    </tr>\n",
       "    <tr>\n",
       "      <th>3</th>\n",
       "      <td>Kreator</td>\n",
       "      <td>2017-01-27</td>\n",
       "      <td>0.0</td>\n",
       "      <td>Fallen Brother</td>\n",
       "      <td>Gods of Violence</td>\n",
       "      <td>nan</td>\n",
       "      <td>[Instrumental Intro]\\n\\nMuch too young you had...</td>\n",
       "      <td>2.0</td>\n",
       "    </tr>\n",
       "    <tr>\n",
       "      <th>4</th>\n",
       "      <td>Kreator</td>\n",
       "      <td>2017-01-27</td>\n",
       "      <td>0.0</td>\n",
       "      <td>Totalitarian Terror</td>\n",
       "      <td>Gods of Violence</td>\n",
       "      <td>nan</td>\n",
       "      <td>Come experience hate like you never have befor...</td>\n",
       "      <td>2.0</td>\n",
       "    </tr>\n",
       "  </tbody>\n",
       "</table>\n",
       "</div>"
      ],
      "text/plain": [
       "  artist_name release_date  page_views           song_title        album_name  \\\n",
       "0     Kreator   2016-12-16     13775.0        Satan Is Real  Gods of Violence   \n",
       "1     Kreator   1986-11-01      8745.0     Pleasure to Kill  Pleasure to Kill   \n",
       "2     Kreator         None      5037.0         Enemy Of God      Enemy Of God   \n",
       "3     Kreator   2017-01-27         0.0       Fallen Brother  Gods of Violence   \n",
       "4     Kreator   2017-01-27         0.0  Totalitarian Terror  Gods of Violence   \n",
       "\n",
       "  spotify_url                                             lyrics    0  \n",
       "0         nan  Martyrs\\nYou cannot kill us all\\nVengeance wil...  3.0  \n",
       "1         nan  Day turns to night as I rise from my grave\\nBl...  2.0  \n",
       "2         nan  Shocked Orwellian races, gather united in grie...  0.0  \n",
       "3         nan  [Instrumental Intro]\\n\\nMuch too young you had...  2.0  \n",
       "4         nan  Come experience hate like you never have befor...  2.0  "
      ]
     },
     "execution_count": 25,
     "metadata": {},
     "output_type": "execute_result"
    }
   ],
   "source": [
    "final_df.head()"
   ]
  },
  {
   "cell_type": "code",
   "execution_count": 28,
   "metadata": {},
   "outputs": [],
   "source": [
    "final_df.columns = [ 'artist_name', 'release_date',   'page_views',   'song_title',\n",
    "         'album_name',  'spotify_url',       'lyrics', 'topic']"
   ]
  },
  {
   "cell_type": "code",
   "execution_count": 32,
   "metadata": {},
   "outputs": [],
   "source": [
    "final_df.dropna(subset=['topic'],inplace=True)"
   ]
  },
  {
   "cell_type": "code",
   "execution_count": 38,
   "metadata": {},
   "outputs": [],
   "source": [
    "final_df.drop('lyrics',inplace=True,axis=1)"
   ]
  },
  {
   "cell_type": "code",
   "execution_count": 34,
   "metadata": {},
   "outputs": [
    {
     "data": {
      "text/plain": [
       "array([3., 2., 0., 1.])"
      ]
     },
     "execution_count": 34,
     "metadata": {},
     "output_type": "execute_result"
    }
   ],
   "source": [
    "final_df.topic.unique()"
   ]
  },
  {
   "cell_type": "code",
   "execution_count": 41,
   "metadata": {},
   "outputs": [],
   "source": [
    "# save topic assignments for later visualization\n",
    "final_df.to_csv('../data/topic_assignments.csv',index=False)"
   ]
  },
  {
   "cell_type": "code",
   "execution_count": null,
   "metadata": {},
   "outputs": [],
   "source": []
  }
 ],
 "metadata": {
  "kernelspec": {
   "display_name": "Python 3",
   "language": "python",
   "name": "python3"
  },
  "language_info": {
   "codemirror_mode": {
    "name": "ipython",
    "version": 3
   },
   "file_extension": ".py",
   "mimetype": "text/x-python",
   "name": "python",
   "nbconvert_exporter": "python",
   "pygments_lexer": "ipython3",
   "version": "3.8.2"
  }
 },
 "nbformat": 4,
 "nbformat_minor": 4
}
