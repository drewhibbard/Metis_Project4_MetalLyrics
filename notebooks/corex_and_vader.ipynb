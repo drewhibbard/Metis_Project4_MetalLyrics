{
 "cells": [
  {
   "cell_type": "markdown",
   "metadata": {},
   "source": [
    "# CorEx and Vader Sentiment Analysis\n",
    "\n",
    "In this notebook I try CorEx topic modeling to see how/if it differs from NMF, LSA, and LDA.\n",
    "\n",
    "I also do Vader Sentiment Analysis to see if metal as a genre is truly as negative as I expect."
   ]
  },
  {
   "cell_type": "code",
   "execution_count": 1,
   "metadata": {},
   "outputs": [],
   "source": [
    "import pandas as pd\n",
    "import numpy as np\n",
    "import pickle\n",
    "from corextopic import corextopic as ct\n",
    "from corextopic import vis_topic as vt\n",
    "import matplotlib.pyplot as plt\n",
    "import seaborn as sns\n",
    "%matplotlib inline\n",
    "sns.set()\n",
    "from sklearn.feature_extraction.text import CountVectorizer"
   ]
  },
  {
   "cell_type": "code",
   "execution_count": 2,
   "metadata": {},
   "outputs": [],
   "source": [
    "with open('../data/metal_artists.pickle','rb') as rf:\n",
    "    metal = pickle.load(rf)"
   ]
  },
  {
   "cell_type": "code",
   "execution_count": 3,
   "metadata": {},
   "outputs": [],
   "source": [
    "df = pd.DataFrame(metal)\n",
    "df.dropna(subset=['lyrics'],inplace=True)"
   ]
  },
  {
   "cell_type": "code",
   "execution_count": 4,
   "metadata": {},
   "outputs": [],
   "source": [
    "stop_words = open('../data/stopwords.txt','r').read().split()"
   ]
  },
  {
   "cell_type": "code",
   "execution_count": 5,
   "metadata": {},
   "outputs": [],
   "source": [
    "cv = CountVectorizer(stop_words=stop_words,min_df=0.01,binary=True)\n",
    "cv_matrix = cv.fit_transform(df.lyrics)\n",
    "cv_df = pd.DataFrame(cv_matrix.toarray(),columns=cv.get_feature_names())"
   ]
  },
  {
   "cell_type": "code",
   "execution_count": 6,
   "metadata": {},
   "outputs": [
    {
     "data": {
      "text/plain": [
       "<corextopic.corextopic.Corex at 0x7fbbb0e3da90>"
      ]
     },
     "execution_count": 6,
     "metadata": {},
     "output_type": "execute_result"
    }
   ],
   "source": [
    "topic_model = ct.Corex(n_hidden=4,words=cv_df.columns,seed=23)\n",
    "topic_model.fit(cv_matrix,words=cv_df.columns,docs=df.lyrics)"
   ]
  },
  {
   "cell_type": "code",
   "execution_count": 7,
   "metadata": {},
   "outputs": [
    {
     "name": "stdout",
     "output_type": "stream",
     "text": [
      "0: death,blood,light,fire,earth,sky,darkness,fear,flesh,world\n",
      "1: shit,fuck,bitch,ass,baby,money,little,girl,rock,good\n",
      "2: life,time,feel,lost,eyes,heart,end,nothing,alone,pain\n",
      "3: things,always,really,need,love,hard,much,even,better,try\n"
     ]
    }
   ],
   "source": [
    "topics = topic_model.get_topics()\n",
    "for n,topic in enumerate(topics):\n",
    "    topic_words,_ = zip(*topic)\n",
    "    print('{}: '.format(n) + ','.join(topic_words))"
   ]
  },
  {
   "cell_type": "code",
   "execution_count": 8,
   "metadata": {},
   "outputs": [
    {
     "data": {
      "text/plain": [
       "array([[ True, False, False, False],\n",
       "       [ True, False,  True,  True],\n",
       "       [ True, False,  True, False],\n",
       "       ...,\n",
       "       [False, False,  True,  True],\n",
       "       [ True,  True,  True,  True],\n",
       "       [False,  True,  True, False]])"
      ]
     },
     "execution_count": 8,
     "metadata": {},
     "output_type": "execute_result"
    }
   ],
   "source": [
    "predict_array = topic_model.predict(cv_matrix)\n",
    "predict_array"
   ]
  },
  {
   "cell_type": "code",
   "execution_count": 9,
   "metadata": {},
   "outputs": [],
   "source": [
    "# assign each song to a topic (it's not perfect since each song could have multiple topics)\n",
    "predictions = np.argmax(predict_array,axis=1)"
   ]
  },
  {
   "cell_type": "code",
   "execution_count": 10,
   "metadata": {},
   "outputs": [
    {
     "data": {
      "text/plain": [
       "(50039,)"
      ]
     },
     "execution_count": 10,
     "metadata": {},
     "output_type": "execute_result"
    }
   ],
   "source": [
    "predictions.shape"
   ]
  },
  {
   "cell_type": "code",
   "execution_count": 11,
   "metadata": {},
   "outputs": [],
   "source": [
    "# save topic assignments to later merge with the original song dataframe\n",
    "with open('../data/corex_topic_assignments.pickle','wb') as out:\n",
    "    pickle.dump(predictions,out)"
   ]
  },
  {
   "cell_type": "markdown",
   "metadata": {},
   "source": [
    "## Vader Sentiment Analysis"
   ]
  },
  {
   "cell_type": "code",
   "execution_count": 12,
   "metadata": {},
   "outputs": [],
   "source": [
    "import vaderSentiment.vaderSentiment as vs"
   ]
  },
  {
   "cell_type": "code",
   "execution_count": 13,
   "metadata": {},
   "outputs": [],
   "source": [
    "vader = vs.SentimentIntensityAnalyzer()"
   ]
  },
  {
   "cell_type": "code",
   "execution_count": 14,
   "metadata": {},
   "outputs": [],
   "source": [
    "def vader_score(text):\n",
    "    return vader.polarity_scores(text)['compound']"
   ]
  },
  {
   "cell_type": "markdown",
   "metadata": {},
   "source": [
    "The Polarity Score returns a value from -1 to 1, with -1 being all negative words and 1 being all positive words, and 0 being neutral."
   ]
  },
  {
   "cell_type": "code",
   "execution_count": 15,
   "metadata": {},
   "outputs": [],
   "source": [
    "df['vader'] = df.lyrics.apply(vader_score)"
   ]
  },
  {
   "cell_type": "code",
   "execution_count": 16,
   "metadata": {},
   "outputs": [
    {
     "data": {
      "text/plain": [
       "count    50039.000000\n",
       "mean        -0.148296\n",
       "std          0.849597\n",
       "min         -1.000000\n",
       "25%         -0.973400\n",
       "50%         -0.561500\n",
       "75%          0.894650\n",
       "max          0.999900\n",
       "Name: vader, dtype: float64"
      ]
     },
     "execution_count": 16,
     "metadata": {},
     "output_type": "execute_result"
    }
   ],
   "source": [
    "df.vader.describe()"
   ]
  },
  {
   "cell_type": "markdown",
   "metadata": {},
   "source": [
    "We see that metal songs are on average quite negative in terms of lyric sentiment (as expected)."
   ]
  },
  {
   "cell_type": "code",
   "execution_count": 17,
   "metadata": {},
   "outputs": [
    {
     "data": {
      "text/html": [
       "<div>\n",
       "<style scoped>\n",
       "    .dataframe tbody tr th:only-of-type {\n",
       "        vertical-align: middle;\n",
       "    }\n",
       "\n",
       "    .dataframe tbody tr th {\n",
       "        vertical-align: top;\n",
       "    }\n",
       "\n",
       "    .dataframe thead th {\n",
       "        text-align: right;\n",
       "    }\n",
       "</style>\n",
       "<table border=\"1\" class=\"dataframe\">\n",
       "  <thead>\n",
       "    <tr style=\"text-align: right;\">\n",
       "      <th></th>\n",
       "      <th>artist_name</th>\n",
       "      <th>release_date</th>\n",
       "      <th>page_views</th>\n",
       "      <th>song_title</th>\n",
       "      <th>album_name</th>\n",
       "      <th>spotify_url</th>\n",
       "      <th>lyrics</th>\n",
       "      <th>vader</th>\n",
       "    </tr>\n",
       "  </thead>\n",
       "  <tbody>\n",
       "    <tr>\n",
       "      <th>0</th>\n",
       "      <td>Kreator</td>\n",
       "      <td>2016-12-16</td>\n",
       "      <td>13775</td>\n",
       "      <td>Satan Is Real</td>\n",
       "      <td>Gods of Violence</td>\n",
       "      <td>nan</td>\n",
       "      <td>Martyrs\\nYou cannot kill us all\\nVengeance wil...</td>\n",
       "      <td>-0.9947</td>\n",
       "    </tr>\n",
       "    <tr>\n",
       "      <th>1</th>\n",
       "      <td>Kreator</td>\n",
       "      <td>1986-11-01</td>\n",
       "      <td>8745</td>\n",
       "      <td>Pleasure to Kill</td>\n",
       "      <td>Pleasure to Kill</td>\n",
       "      <td>nan</td>\n",
       "      <td>Day turns to night as I rise from my grave\\nBl...</td>\n",
       "      <td>-0.9920</td>\n",
       "    </tr>\n",
       "    <tr>\n",
       "      <th>2</th>\n",
       "      <td>Kreator</td>\n",
       "      <td>None</td>\n",
       "      <td>5037</td>\n",
       "      <td>Enemy Of God</td>\n",
       "      <td>Enemy Of God</td>\n",
       "      <td>nan</td>\n",
       "      <td>Shocked Orwellian races, gather united in grie...</td>\n",
       "      <td>-0.9964</td>\n",
       "    </tr>\n",
       "    <tr>\n",
       "      <th>3</th>\n",
       "      <td>Kreator</td>\n",
       "      <td>2017-01-27</td>\n",
       "      <td>0</td>\n",
       "      <td>Fallen Brother</td>\n",
       "      <td>Gods of Violence</td>\n",
       "      <td>nan</td>\n",
       "      <td>[Instrumental Intro]\\n\\nMuch too young you had...</td>\n",
       "      <td>-0.9933</td>\n",
       "    </tr>\n",
       "    <tr>\n",
       "      <th>4</th>\n",
       "      <td>Kreator</td>\n",
       "      <td>2017-01-27</td>\n",
       "      <td>0</td>\n",
       "      <td>Totalitarian Terror</td>\n",
       "      <td>Gods of Violence</td>\n",
       "      <td>nan</td>\n",
       "      <td>Come experience hate like you never have befor...</td>\n",
       "      <td>-0.9942</td>\n",
       "    </tr>\n",
       "  </tbody>\n",
       "</table>\n",
       "</div>"
      ],
      "text/plain": [
       "  artist_name release_date  page_views           song_title        album_name  \\\n",
       "0     Kreator   2016-12-16       13775        Satan Is Real  Gods of Violence   \n",
       "1     Kreator   1986-11-01        8745     Pleasure to Kill  Pleasure to Kill   \n",
       "2     Kreator         None        5037         Enemy Of God      Enemy Of God   \n",
       "3     Kreator   2017-01-27           0       Fallen Brother  Gods of Violence   \n",
       "4     Kreator   2017-01-27           0  Totalitarian Terror  Gods of Violence   \n",
       "\n",
       "  spotify_url                                             lyrics   vader  \n",
       "0         nan  Martyrs\\nYou cannot kill us all\\nVengeance wil... -0.9947  \n",
       "1         nan  Day turns to night as I rise from my grave\\nBl... -0.9920  \n",
       "2         nan  Shocked Orwellian races, gather united in grie... -0.9964  \n",
       "3         nan  [Instrumental Intro]\\n\\nMuch too young you had... -0.9933  \n",
       "4         nan  Come experience hate like you never have befor... -0.9942  "
      ]
     },
     "execution_count": 17,
     "metadata": {},
     "output_type": "execute_result"
    }
   ],
   "source": [
    "df.head()"
   ]
  },
  {
   "cell_type": "code",
   "execution_count": 19,
   "metadata": {},
   "outputs": [],
   "source": [
    "# save vader scores per song for use in visualizations\n",
    "df[['song_title','vader']].to_csv('../data/vader_scores.csv',index=False)"
   ]
  },
  {
   "cell_type": "code",
   "execution_count": null,
   "metadata": {},
   "outputs": [],
   "source": []
  }
 ],
 "metadata": {
  "kernelspec": {
   "display_name": "Python 3",
   "language": "python",
   "name": "python3"
  },
  "language_info": {
   "codemirror_mode": {
    "name": "ipython",
    "version": 3
   },
   "file_extension": ".py",
   "mimetype": "text/x-python",
   "name": "python",
   "nbconvert_exporter": "python",
   "pygments_lexer": "ipython3",
   "version": "3.8.2"
  }
 },
 "nbformat": 4,
 "nbformat_minor": 4
}
