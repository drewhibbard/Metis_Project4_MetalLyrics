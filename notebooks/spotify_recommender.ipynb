{
 "cells": [
  {
   "cell_type": "markdown",
   "metadata": {},
   "source": [
    "# Spotify Recommendation Systems"
   ]
  },
  {
   "cell_type": "markdown",
   "metadata": {},
   "source": [
    "In this notebook I try a couple of different recommendation systems for music on Spotify.\n",
    "\n",
    "1. Content-Based\n",
    "    - Using Spotify's track audio features, I compute the euclidean distance between songs in an attempt to find songs that sound similar to each other.  I then recommend the most similar songs.  This will take into account features provided by Spotify such as acousticness, loudness, energy, key, and tempo.\n",
    "    \n",
    "2. Collaborative Filtering\n",
    "    - I wanted to attempt this but I don't believe it's possible to get data on that many specific users, even anonymized.\n",
    "    - This version takes into account a user's history.  It identifies songs that a user has liked, finds users that have liked the most similar songs, and then recommends songs those users liked that the original user has not liked (presuming that they have not yet heard the song, not that they already disliked it). "
   ]
  },
  {
   "cell_type": "code",
   "execution_count": 1,
   "metadata": {},
   "outputs": [],
   "source": [
    "import requests\n",
    "import spotipy\n",
    "\n",
    "import sys\n",
    "sys.path.append('../modules/')\n",
    "import lyrics_grab\n",
    "import credentials\n",
    "from spotipy.oauth2 import SpotifyClientCredentials\n",
    "import pickle\n",
    "import numpy as np\n",
    "import pandas as pd"
   ]
  },
  {
   "cell_type": "code",
   "execution_count": 2,
   "metadata": {},
   "outputs": [],
   "source": [
    "auth_manager = SpotifyClientCredentials(client_id=credentials.spotify_client_id,\n",
    "                                        client_secret=credentials.spotify_client_secret)\n",
    "sp = spotipy.Spotify(auth_manager=auth_manager)"
   ]
  },
  {
   "cell_type": "code",
   "execution_count": 3,
   "metadata": {},
   "outputs": [],
   "source": [
    "with open('../data/metal_raw.pickle','rb') as rf:\n",
    "    metal_raw = pickle.load(rf)"
   ]
  },
  {
   "cell_type": "code",
   "execution_count": 4,
   "metadata": {},
   "outputs": [],
   "source": [
    "artists = lyrics_grab.extract_artist_info(metal_raw)"
   ]
  },
  {
   "cell_type": "code",
   "execution_count": 5,
   "metadata": {},
   "outputs": [],
   "source": [
    "# songs = lyrics_grab.extract_song_info(list(artists.keys()))"
   ]
  },
  {
   "cell_type": "code",
   "execution_count": 6,
   "metadata": {},
   "outputs": [],
   "source": [
    "# with open('../data/song_info.pickle','wb') as out:\n",
    "#     pickle.dump(songs,out)"
   ]
  },
  {
   "cell_type": "code",
   "execution_count": 7,
   "metadata": {},
   "outputs": [],
   "source": [
    "# song_ids = lyrics_grab.get_song_ids(songs)"
   ]
  },
  {
   "cell_type": "code",
   "execution_count": 8,
   "metadata": {},
   "outputs": [],
   "source": [
    "# audio_features = lyrics_grab.get_audio_features(song_ids)"
   ]
  },
  {
   "cell_type": "code",
   "execution_count": 9,
   "metadata": {},
   "outputs": [],
   "source": [
    "# with open('../data/audio_features.pickle','wb') as out:\n",
    "#     pickle.dump(audio_features,out)"
   ]
  },
  {
   "cell_type": "code",
   "execution_count": 10,
   "metadata": {},
   "outputs": [],
   "source": [
    "with open('../data/song_info.pickle','rb') as rf:\n",
    "    songs = pickle.load(rf)\n",
    "    \n",
    "with open('../data/audio_features.pickle','rb') as rf:\n",
    "    audio_features = pickle.load(rf)"
   ]
  },
  {
   "cell_type": "code",
   "execution_count": 11,
   "metadata": {},
   "outputs": [],
   "source": [
    "audio_df = pd.DataFrame(audio_features)\n",
    "songs_df = pd.DataFrame(songs)"
   ]
  },
  {
   "cell_type": "code",
   "execution_count": 12,
   "metadata": {},
   "outputs": [],
   "source": [
    "df = songs_df.merge(audio_df,left_on='id',right_on='id')"
   ]
  },
  {
   "cell_type": "code",
   "execution_count": 13,
   "metadata": {},
   "outputs": [],
   "source": [
    "from sklearn.metrics.pairwise import pairwise_distances\n",
    "from sklearn.preprocessing import StandardScaler\n",
    "from sklearn.decomposition import PCA"
   ]
  },
  {
   "cell_type": "code",
   "execution_count": 14,
   "metadata": {},
   "outputs": [],
   "source": [
    "scaler = StandardScaler()"
   ]
  },
  {
   "cell_type": "code",
   "execution_count": 15,
   "metadata": {},
   "outputs": [],
   "source": [
    "num_data = df.select_dtypes('number')\n",
    "scaled_data = scaler.fit_transform(num_data)"
   ]
  },
  {
   "cell_type": "code",
   "execution_count": 38,
   "metadata": {},
   "outputs": [],
   "source": [
    "scores = np.prod(num_data,axis=1)"
   ]
  },
  {
   "cell_type": "code",
   "execution_count": 39,
   "metadata": {},
   "outputs": [
    {
     "data": {
      "text/plain": [
       "(48554,)"
      ]
     },
     "execution_count": 39,
     "metadata": {},
     "output_type": "execute_result"
    }
   ],
   "source": [
    "scores.shape"
   ]
  },
  {
   "cell_type": "code",
   "execution_count": 40,
   "metadata": {},
   "outputs": [],
   "source": [
    "df['scores'] = scores"
   ]
  },
  {
   "cell_type": "code",
   "execution_count": 41,
   "metadata": {},
   "outputs": [],
   "source": [
    "df = df.sort_values('scores',axis=0).reset_index(drop=True)"
   ]
  },
  {
   "cell_type": "code",
   "execution_count": 42,
   "metadata": {},
   "outputs": [],
   "source": [
    "ind = df.index[(df.song_name==\"Waking the Demon\") & (df.artist_name=='Bullet For My Valentine')][0]"
   ]
  },
  {
   "cell_type": "code",
   "execution_count": 43,
   "metadata": {},
   "outputs": [],
   "source": [
    "def make_clickable(val):\n",
    "    return f'<a href=\"{val}\">{val}</a>'"
   ]
  },
  {
   "cell_type": "code",
   "execution_count": 48,
   "metadata": {},
   "outputs": [
    {
     "data": {
      "text/html": [
       "<style  type=\"text/css\" >\n",
       "</style><table id=\"T_2128d0a0_23a8_11eb_bd13_acde48001122\" ><thead>    <tr>        <th class=\"blank level0\" ></th>        <th class=\"col_heading level0 col0\" >artist_name</th>        <th class=\"col_heading level0 col1\" >song_name</th>        <th class=\"col_heading level0 col2\" >popularity</th>        <th class=\"col_heading level0 col3\" >link</th>    </tr></thead><tbody>\n",
       "                <tr>\n",
       "                        <th id=\"T_2128d0a0_23a8_11eb_bd13_acde48001122level0_row0\" class=\"row_heading level0 row0\" >41058</th>\n",
       "                        <td id=\"T_2128d0a0_23a8_11eb_bd13_acde48001122row0_col0\" class=\"data row0 col0\" >The Amity Affliction</td>\n",
       "                        <td id=\"T_2128d0a0_23a8_11eb_bd13_acde48001122row0_col1\" class=\"data row0 col1\" >Drag the Lake</td>\n",
       "                        <td id=\"T_2128d0a0_23a8_11eb_bd13_acde48001122row0_col2\" class=\"data row0 col2\" >61</td>\n",
       "                        <td id=\"T_2128d0a0_23a8_11eb_bd13_acde48001122row0_col3\" class=\"data row0 col3\" ><a href=\"https://open.spotify.com/track/4vVzmaBsxXuKrJeMSLRF4y\">https://open.spotify.com/track/4vVzmaBsxXuKrJeMSLRF4y</a></td>\n",
       "            </tr>\n",
       "            <tr>\n",
       "                        <th id=\"T_2128d0a0_23a8_11eb_bd13_acde48001122level0_row1\" class=\"row_heading level0 row1\" >41068</th>\n",
       "                        <td id=\"T_2128d0a0_23a8_11eb_bd13_acde48001122row1_col0\" class=\"data row1 col0\" >Arch Enemy</td>\n",
       "                        <td id=\"T_2128d0a0_23a8_11eb_bd13_acde48001122row1_col1\" class=\"data row1 col1\" >War Eternal</td>\n",
       "                        <td id=\"T_2128d0a0_23a8_11eb_bd13_acde48001122row1_col2\" class=\"data row1 col2\" >58</td>\n",
       "                        <td id=\"T_2128d0a0_23a8_11eb_bd13_acde48001122row1_col3\" class=\"data row1 col3\" ><a href=\"https://open.spotify.com/track/0WZZENH0kt3O2cBE8q5IRq\">https://open.spotify.com/track/0WZZENH0kt3O2cBE8q5IRq</a></td>\n",
       "            </tr>\n",
       "            <tr>\n",
       "                        <th id=\"T_2128d0a0_23a8_11eb_bd13_acde48001122level0_row2\" class=\"row_heading level0 row2\" >41117</th>\n",
       "                        <td id=\"T_2128d0a0_23a8_11eb_bd13_acde48001122row2_col0\" class=\"data row2 col0\" >Shaman's Harvest</td>\n",
       "                        <td id=\"T_2128d0a0_23a8_11eb_bd13_acde48001122row2_col1\" class=\"data row2 col1\" >In Chains</td>\n",
       "                        <td id=\"T_2128d0a0_23a8_11eb_bd13_acde48001122row2_col2\" class=\"data row2 col2\" >55</td>\n",
       "                        <td id=\"T_2128d0a0_23a8_11eb_bd13_acde48001122row2_col3\" class=\"data row2 col3\" ><a href=\"https://open.spotify.com/track/4PX6YOc2ysHxiBqwNNca2F\">https://open.spotify.com/track/4PX6YOc2ysHxiBqwNNca2F</a></td>\n",
       "            </tr>\n",
       "            <tr>\n",
       "                        <th id=\"T_2128d0a0_23a8_11eb_bd13_acde48001122level0_row3\" class=\"row_heading level0 row3\" >41132</th>\n",
       "                        <td id=\"T_2128d0a0_23a8_11eb_bd13_acde48001122row3_col0\" class=\"data row3 col0\" >Bon Jovi</td>\n",
       "                        <td id=\"T_2128d0a0_23a8_11eb_bd13_acde48001122row3_col1\" class=\"data row3 col1\" >Limitless</td>\n",
       "                        <td id=\"T_2128d0a0_23a8_11eb_bd13_acde48001122row3_col2\" class=\"data row3 col2\" >54</td>\n",
       "                        <td id=\"T_2128d0a0_23a8_11eb_bd13_acde48001122row3_col3\" class=\"data row3 col3\" ><a href=\"https://open.spotify.com/track/71JuDGXgyY7MbmXtldZ4C3\">https://open.spotify.com/track/71JuDGXgyY7MbmXtldZ4C3</a></td>\n",
       "            </tr>\n",
       "            <tr>\n",
       "                        <th id=\"T_2128d0a0_23a8_11eb_bd13_acde48001122level0_row4\" class=\"row_heading level0 row4\" >41084</th>\n",
       "                        <td id=\"T_2128d0a0_23a8_11eb_bd13_acde48001122row4_col0\" class=\"data row4 col0\" >The Cult</td>\n",
       "                        <td id=\"T_2128d0a0_23a8_11eb_bd13_acde48001122row4_col1\" class=\"data row4 col1\" >Love Removal Machine</td>\n",
       "                        <td id=\"T_2128d0a0_23a8_11eb_bd13_acde48001122row4_col2\" class=\"data row4 col2\" >53</td>\n",
       "                        <td id=\"T_2128d0a0_23a8_11eb_bd13_acde48001122row4_col3\" class=\"data row4 col3\" ><a href=\"https://open.spotify.com/track/3w6URtAxoSs2JAw9PvYhbH\">https://open.spotify.com/track/3w6URtAxoSs2JAw9PvYhbH</a></td>\n",
       "            </tr>\n",
       "            <tr>\n",
       "                        <th id=\"T_2128d0a0_23a8_11eb_bd13_acde48001122level0_row5\" class=\"row_heading level0 row5\" >41077</th>\n",
       "                        <td id=\"T_2128d0a0_23a8_11eb_bd13_acde48001122row5_col0\" class=\"data row5 col0\" >Architects</td>\n",
       "                        <td id=\"T_2128d0a0_23a8_11eb_bd13_acde48001122row5_col1\" class=\"data row5 col1\" >Modern Misery</td>\n",
       "                        <td id=\"T_2128d0a0_23a8_11eb_bd13_acde48001122row5_col2\" class=\"data row5 col2\" >52</td>\n",
       "                        <td id=\"T_2128d0a0_23a8_11eb_bd13_acde48001122row5_col3\" class=\"data row5 col3\" ><a href=\"https://open.spotify.com/track/6jaJVPLZOME4TtgW1Es5NT\">https://open.spotify.com/track/6jaJVPLZOME4TtgW1Es5NT</a></td>\n",
       "            </tr>\n",
       "            <tr>\n",
       "                        <th id=\"T_2128d0a0_23a8_11eb_bd13_acde48001122level0_row6\" class=\"row_heading level0 row6\" >41045</th>\n",
       "                        <td id=\"T_2128d0a0_23a8_11eb_bd13_acde48001122row6_col0\" class=\"data row6 col0\" >Avenged Sevenfold</td>\n",
       "                        <td id=\"T_2128d0a0_23a8_11eb_bd13_acde48001122row6_col1\" class=\"data row6 col1\" >Brompton Cocktail</td>\n",
       "                        <td id=\"T_2128d0a0_23a8_11eb_bd13_acde48001122row6_col2\" class=\"data row6 col2\" >51</td>\n",
       "                        <td id=\"T_2128d0a0_23a8_11eb_bd13_acde48001122row6_col3\" class=\"data row6 col3\" ><a href=\"https://open.spotify.com/track/3H2VmsXSSxjIv1UUPEQ30d\">https://open.spotify.com/track/3H2VmsXSSxjIv1UUPEQ30d</a></td>\n",
       "            </tr>\n",
       "            <tr>\n",
       "                        <th id=\"T_2128d0a0_23a8_11eb_bd13_acde48001122level0_row7\" class=\"row_heading level0 row7\" >41076</th>\n",
       "                        <td id=\"T_2128d0a0_23a8_11eb_bd13_acde48001122row7_col0\" class=\"data row7 col0\" >3 Doors Down</td>\n",
       "                        <td id=\"T_2128d0a0_23a8_11eb_bd13_acde48001122row7_col1\" class=\"data row7 col1\" >The Road I'm On</td>\n",
       "                        <td id=\"T_2128d0a0_23a8_11eb_bd13_acde48001122row7_col2\" class=\"data row7 col2\" >48</td>\n",
       "                        <td id=\"T_2128d0a0_23a8_11eb_bd13_acde48001122row7_col3\" class=\"data row7 col3\" ><a href=\"https://open.spotify.com/track/2C1m7Lw5cUpFWUkN6Tovik\">https://open.spotify.com/track/2C1m7Lw5cUpFWUkN6Tovik</a></td>\n",
       "            </tr>\n",
       "            <tr>\n",
       "                        <th id=\"T_2128d0a0_23a8_11eb_bd13_acde48001122level0_row8\" class=\"row_heading level0 row8\" >41094</th>\n",
       "                        <td id=\"T_2128d0a0_23a8_11eb_bd13_acde48001122row8_col0\" class=\"data row8 col0\" >Silverchair</td>\n",
       "                        <td id=\"T_2128d0a0_23a8_11eb_bd13_acde48001122row8_col1\" class=\"data row8 col1\" >Straight Lines</td>\n",
       "                        <td id=\"T_2128d0a0_23a8_11eb_bd13_acde48001122row8_col2\" class=\"data row8 col2\" >46</td>\n",
       "                        <td id=\"T_2128d0a0_23a8_11eb_bd13_acde48001122row8_col3\" class=\"data row8 col3\" ><a href=\"https://open.spotify.com/track/3gHeBUfAPPUxAJoQ8lsjt2\">https://open.spotify.com/track/3gHeBUfAPPUxAJoQ8lsjt2</a></td>\n",
       "            </tr>\n",
       "            <tr>\n",
       "                        <th id=\"T_2128d0a0_23a8_11eb_bd13_acde48001122level0_row9\" class=\"row_heading level0 row9\" >41063</th>\n",
       "                        <td id=\"T_2128d0a0_23a8_11eb_bd13_acde48001122row9_col0\" class=\"data row9 col0\" >Woe, Is Me</td>\n",
       "                        <td id=\"T_2128d0a0_23a8_11eb_bd13_acde48001122row9_col1\" class=\"data row9 col1\" >Vengeance</td>\n",
       "                        <td id=\"T_2128d0a0_23a8_11eb_bd13_acde48001122row9_col2\" class=\"data row9 col2\" >43</td>\n",
       "                        <td id=\"T_2128d0a0_23a8_11eb_bd13_acde48001122row9_col3\" class=\"data row9 col3\" ><a href=\"https://open.spotify.com/track/77o5lCGzfnfVzeEhCgn1BD\">https://open.spotify.com/track/77o5lCGzfnfVzeEhCgn1BD</a></td>\n",
       "            </tr>\n",
       "    </tbody></table>"
      ],
      "text/plain": [
       "<pandas.io.formats.style.Styler at 0x7f8a55ada8e0>"
      ]
     },
     "execution_count": 48,
     "metadata": {},
     "output_type": "execute_result"
    }
   ],
   "source": [
    "pd.concat([df.iloc[ind-50:ind],df.iloc[ind+1:ind+51]])[['artist_name','song_name','popularity','link']].sort_values('popularity',ascending=False).head(10).style.format({'link':make_clickable})"
   ]
  },
  {
   "cell_type": "code",
   "execution_count": 50,
   "metadata": {},
   "outputs": [
    {
     "data": {
      "text/html": [
       "<div>\n",
       "<style scoped>\n",
       "    .dataframe tbody tr th:only-of-type {\n",
       "        vertical-align: middle;\n",
       "    }\n",
       "\n",
       "    .dataframe tbody tr th {\n",
       "        vertical-align: top;\n",
       "    }\n",
       "\n",
       "    .dataframe thead th {\n",
       "        text-align: right;\n",
       "    }\n",
       "</style>\n",
       "<table border=\"1\" class=\"dataframe\">\n",
       "  <thead>\n",
       "    <tr style=\"text-align: right;\">\n",
       "      <th></th>\n",
       "      <th>artist_name</th>\n",
       "      <th>scores</th>\n",
       "      <th>popularity</th>\n",
       "    </tr>\n",
       "  </thead>\n",
       "  <tbody>\n",
       "    <tr>\n",
       "      <th>0</th>\n",
       "      <td>Isaiah Rashad</td>\n",
       "      <td>3.145670e+02</td>\n",
       "      <td>68.00</td>\n",
       "    </tr>\n",
       "    <tr>\n",
       "      <th>1</th>\n",
       "      <td>The Alchemists (double CD)</td>\n",
       "      <td>0.000000e+00</td>\n",
       "      <td>7.00</td>\n",
       "    </tr>\n",
       "    <tr>\n",
       "      <th>2</th>\n",
       "      <td>Stellar Exodus</td>\n",
       "      <td>0.000000e+00</td>\n",
       "      <td>31.00</td>\n",
       "    </tr>\n",
       "    <tr>\n",
       "      <th>3</th>\n",
       "      <td>Sylvia Trouble</td>\n",
       "      <td>0.000000e+00</td>\n",
       "      <td>33.00</td>\n",
       "    </tr>\n",
       "    <tr>\n",
       "      <th>4</th>\n",
       "      <td>Sylar 67</td>\n",
       "      <td>0.000000e+00</td>\n",
       "      <td>5.00</td>\n",
       "    </tr>\n",
       "    <tr>\n",
       "      <th>...</th>\n",
       "      <td>...</td>\n",
       "      <td>...</td>\n",
       "      <td>...</td>\n",
       "    </tr>\n",
       "    <tr>\n",
       "      <th>2564</th>\n",
       "      <td>Týr</td>\n",
       "      <td>-1.174523e+13</td>\n",
       "      <td>46.50</td>\n",
       "    </tr>\n",
       "    <tr>\n",
       "      <th>2565</th>\n",
       "      <td>Mudvayne</td>\n",
       "      <td>-1.264509e+13</td>\n",
       "      <td>39.52</td>\n",
       "    </tr>\n",
       "    <tr>\n",
       "      <th>2566</th>\n",
       "      <td>Picturesque</td>\n",
       "      <td>-1.272779e+13</td>\n",
       "      <td>28.54</td>\n",
       "    </tr>\n",
       "    <tr>\n",
       "      <th>2567</th>\n",
       "      <td>apocalyptical</td>\n",
       "      <td>-1.294045e+13</td>\n",
       "      <td>39.50</td>\n",
       "    </tr>\n",
       "    <tr>\n",
       "      <th>2568</th>\n",
       "      <td>Whitehorse</td>\n",
       "      <td>-1.570810e+13</td>\n",
       "      <td>23.00</td>\n",
       "    </tr>\n",
       "  </tbody>\n",
       "</table>\n",
       "<p>2569 rows × 3 columns</p>\n",
       "</div>"
      ],
      "text/plain": [
       "                     artist_name        scores  popularity\n",
       "0                  Isaiah Rashad  3.145670e+02       68.00\n",
       "1     The Alchemists (double CD)  0.000000e+00        7.00\n",
       "2                 Stellar Exodus  0.000000e+00       31.00\n",
       "3                 Sylvia Trouble  0.000000e+00       33.00\n",
       "4                       Sylar 67  0.000000e+00        5.00\n",
       "...                          ...           ...         ...\n",
       "2564                         Týr -1.174523e+13       46.50\n",
       "2565                    Mudvayne -1.264509e+13       39.52\n",
       "2566                 Picturesque -1.272779e+13       28.54\n",
       "2567               apocalyptical -1.294045e+13       39.50\n",
       "2568                  Whitehorse -1.570810e+13       23.00\n",
       "\n",
       "[2569 rows x 3 columns]"
      ]
     },
     "execution_count": 50,
     "metadata": {},
     "output_type": "execute_result"
    }
   ],
   "source": [
    "artist_scores = df.groupby('artist_name')[['scores','popularity']].mean().reset_index().sort_values('scores',ascending=False).reset_index(drop=True)\n",
    "artist_scores"
   ]
  },
  {
   "cell_type": "code",
   "execution_count": null,
   "metadata": {},
   "outputs": [],
   "source": [
    "artist_scores = artist_scores[artist_scores.artist_name!='Rauw Alejandro']\n",
    "artist_scores = artist_scores[artist_scores.artist_name!='Jowell & Randy']\n",
    "artist_scores = artist_scores[artist_scores.artist_name!='Rachel Platten']\n",
    "artist_scores = artist_scores[artist_scores.artist_name!='Corinne Baily Rae']\n",
    "artist_scores = artist_scores[artist_scores.artist_name!=\"Rag'n'Bone Man\"]\n",
    "artist_scores = artist_scores[artist_scores.artist_name!='Lenin Ramírez']\n",
    "artist_scores = artist_scores[artist_scores.artist_name!='Au/Ra']\n",
    "artist_scores = artist_scores[artist_scores.artist_name!='Hot Chelle Rae']\n",
    "artist_scores = artist_scores[artist_scores.artist_name!='Don Omar']\n",
    "artist_scores = artist_scores[artist_scores.artist_name!='Rae Sremmurd']\n",
    "artist_scores = artist_scores[artist_scores.artist_name!='Don Omar']\n",
    "artist_scores = artist_scores[artist_scores.artist_name!='girl in red']\n",
    "artist_scores = artist_scores[artist_scores.artist_name!='Corinne Bailey Rae']\n",
    "artist_scores = artist_scores[artist_scores.artist_name!='Ray Parker Jr.']\n",
    "artist_scores = artist_scores[artist_scores.artist_name!='Elle King']\n",
    "artist_scores = artist_scores[artist_scores.artist_name!='Omarion']\n",
    "artist_scores = artist_scores[artist_scores.artist_name!='Leona Lewis']\n",
    "artist_scores = artist_scores[artist_scores.artist_name!='Chance the Rapper']\n",
    "artist_scores = artist_scores[artist_scores.artist_name!='Lin-Manuel Miranda']\n",
    "artist_scores = artist_scores[artist_scores.artist_name!='White Noise Baby Sleep']\n",
    "artist_scores = artist_scores[artist_scores.artist_name!='Ray LaMontagne']\n",
    "artist_scores = artist_scores[artist_scores.artist_name!='Rain Sounds']\n",
    "artist_scores = artist_scores[artist_scores.artist_name!='The Weeknd']\n",
    "artist_scores = artist_scores[artist_scores.artist_name!='Rain Sounds For Sleep']\n",
    "artist_scores = artist_scores[artist_scores.artist_name!='RaeLynn']\n",
    "artist_scores = artist_scores[artist_scores.artist_name!='Carin Leon']\n",
    "artist_scores = artist_scores[artist_scores.artist_name!='Rascal Flatts']\n",
    "artist_scores = artist_scores[artist_scores.artist_name!='Isaiah Rashad']\n",
    "artist_scores = artist_scores[artist_scores.artist_name!='Ray J']\n",
    "artist_scores = artist_scores[artist_scores.artist_name!='Céline Dion']\n",
    "artist_scores = artist_scores[artist_scores.artist_name!='Baby Sleep']\n",
    "artist_scores = artist_scores[artist_scores.artist_name!='Taylor Ray Holbrook']\n",
    "artist_scores = artist_scores[artist_scores.artist_name!='Vancouver Sleep Clinic']"
   ]
  },
  {
   "cell_type": "code",
   "execution_count": 72,
   "metadata": {},
   "outputs": [],
   "source": [
    "ind = artist_scores.index[artist_scores.artist_name=='Avenged Sevenfold'][0]"
   ]
  },
  {
   "cell_type": "code",
   "execution_count": 73,
   "metadata": {},
   "outputs": [
    {
     "data": {
      "text/html": [
       "<style  type=\"text/css\" >\n",
       "</style><table id=\"T_d1b9fa6e_23aa_11eb_bd13_acde48001122\" ><thead>    <tr>        <th class=\"blank level0\" ></th>        <th class=\"col_heading level0 col0\" >artist_name</th>        <th class=\"col_heading level0 col1\" >scores</th>        <th class=\"col_heading level0 col2\" >popularity</th>    </tr></thead><tbody>\n",
       "                <tr>\n",
       "                        <th id=\"T_d1b9fa6e_23aa_11eb_bd13_acde48001122level0_row0\" class=\"row_heading level0 row0\" >1874</th>\n",
       "                        <td id=\"T_d1b9fa6e_23aa_11eb_bd13_acde48001122row0_col0\" class=\"data row0 col0\" >The Offspring</td>\n",
       "                        <td id=\"T_d1b9fa6e_23aa_11eb_bd13_acde48001122row0_col1\" class=\"data row0 col1\" >-25413413016.020706</td>\n",
       "                        <td id=\"T_d1b9fa6e_23aa_11eb_bd13_acde48001122row0_col2\" class=\"data row0 col2\" >55.673469</td>\n",
       "            </tr>\n",
       "            <tr>\n",
       "                        <th id=\"T_d1b9fa6e_23aa_11eb_bd13_acde48001122level0_row1\" class=\"row_heading level0 row1\" >1879</th>\n",
       "                        <td id=\"T_d1b9fa6e_23aa_11eb_bd13_acde48001122row1_col0\" class=\"data row1 col0\" >Video Games Live</td>\n",
       "                        <td id=\"T_d1b9fa6e_23aa_11eb_bd13_acde48001122row1_col1\" class=\"data row1 col1\" >-26184593146.003834</td>\n",
       "                        <td id=\"T_d1b9fa6e_23aa_11eb_bd13_acde48001122row1_col2\" class=\"data row1 col2\" >51.000000</td>\n",
       "            </tr>\n",
       "            <tr>\n",
       "                        <th id=\"T_d1b9fa6e_23aa_11eb_bd13_acde48001122level0_row2\" class=\"row_heading level0 row2\" >1897</th>\n",
       "                        <td id=\"T_d1b9fa6e_23aa_11eb_bd13_acde48001122row2_col0\" class=\"data row2 col0\" >I Prevail</td>\n",
       "                        <td id=\"T_d1b9fa6e_23aa_11eb_bd13_acde48001122row2_col1\" class=\"data row2 col1\" >-28780295123.790455</td>\n",
       "                        <td id=\"T_d1b9fa6e_23aa_11eb_bd13_acde48001122row2_col2\" class=\"data row2 col2\" >50.458333</td>\n",
       "            </tr>\n",
       "            <tr>\n",
       "                        <th id=\"T_d1b9fa6e_23aa_11eb_bd13_acde48001122level0_row3\" class=\"row_heading level0 row3\" >1878</th>\n",
       "                        <td id=\"T_d1b9fa6e_23aa_11eb_bd13_acde48001122row3_col0\" class=\"data row3 col0\" >Poison</td>\n",
       "                        <td id=\"T_d1b9fa6e_23aa_11eb_bd13_acde48001122row3_col1\" class=\"data row3 col1\" >-25715911696.921535</td>\n",
       "                        <td id=\"T_d1b9fa6e_23aa_11eb_bd13_acde48001122row3_col2\" class=\"data row3 col2\" >46.066667</td>\n",
       "            </tr>\n",
       "            <tr>\n",
       "                        <th id=\"T_d1b9fa6e_23aa_11eb_bd13_acde48001122level0_row4\" class=\"row_heading level0 row4\" >1904</th>\n",
       "                        <td id=\"T_d1b9fa6e_23aa_11eb_bd13_acde48001122row4_col0\" class=\"data row4 col0\" >Killswitch Engage</td>\n",
       "                        <td id=\"T_d1b9fa6e_23aa_11eb_bd13_acde48001122row4_col1\" class=\"data row4 col1\" >-29818443549.322269</td>\n",
       "                        <td id=\"T_d1b9fa6e_23aa_11eb_bd13_acde48001122row4_col2\" class=\"data row4 col2\" >45.860000</td>\n",
       "            </tr>\n",
       "            <tr>\n",
       "                        <th id=\"T_d1b9fa6e_23aa_11eb_bd13_acde48001122level0_row5\" class=\"row_heading level0 row5\" >1896</th>\n",
       "                        <td id=\"T_d1b9fa6e_23aa_11eb_bd13_acde48001122row5_col0\" class=\"data row5 col0\" >Accept</td>\n",
       "                        <td id=\"T_d1b9fa6e_23aa_11eb_bd13_acde48001122row5_col1\" class=\"data row5 col1\" >-28740174133.426414</td>\n",
       "                        <td id=\"T_d1b9fa6e_23aa_11eb_bd13_acde48001122row5_col2\" class=\"data row5 col2\" >44.315789</td>\n",
       "            </tr>\n",
       "            <tr>\n",
       "                        <th id=\"T_d1b9fa6e_23aa_11eb_bd13_acde48001122level0_row6\" class=\"row_heading level0 row6\" >1876</th>\n",
       "                        <td id=\"T_d1b9fa6e_23aa_11eb_bd13_acde48001122row6_col0\" class=\"data row6 col0\" >Bloodhound Gang</td>\n",
       "                        <td id=\"T_d1b9fa6e_23aa_11eb_bd13_acde48001122row6_col1\" class=\"data row6 col1\" >-25632123710.837147</td>\n",
       "                        <td id=\"T_d1b9fa6e_23aa_11eb_bd13_acde48001122row6_col2\" class=\"data row6 col2\" >41.400000</td>\n",
       "            </tr>\n",
       "            <tr>\n",
       "                        <th id=\"T_d1b9fa6e_23aa_11eb_bd13_acde48001122level0_row7\" class=\"row_heading level0 row7\" >1901</th>\n",
       "                        <td id=\"T_d1b9fa6e_23aa_11eb_bd13_acde48001122row7_col0\" class=\"data row7 col0\" >John Petrucci</td>\n",
       "                        <td id=\"T_d1b9fa6e_23aa_11eb_bd13_acde48001122row7_col1\" class=\"data row7 col1\" >-29314746847.200523</td>\n",
       "                        <td id=\"T_d1b9fa6e_23aa_11eb_bd13_acde48001122row7_col2\" class=\"data row7 col2\" >39.500000</td>\n",
       "            </tr>\n",
       "            <tr>\n",
       "                        <th id=\"T_d1b9fa6e_23aa_11eb_bd13_acde48001122level0_row8\" class=\"row_heading level0 row8\" >1906</th>\n",
       "                        <td id=\"T_d1b9fa6e_23aa_11eb_bd13_acde48001122row8_col0\" class=\"data row8 col0\" >Nile Rodgers</td>\n",
       "                        <td id=\"T_d1b9fa6e_23aa_11eb_bd13_acde48001122row8_col1\" class=\"data row8 col1\" >-30801056658.479740</td>\n",
       "                        <td id=\"T_d1b9fa6e_23aa_11eb_bd13_acde48001122row8_col2\" class=\"data row8 col2\" >39.250000</td>\n",
       "            </tr>\n",
       "            <tr>\n",
       "                        <th id=\"T_d1b9fa6e_23aa_11eb_bd13_acde48001122level0_row9\" class=\"row_heading level0 row9\" >1883</th>\n",
       "                        <td id=\"T_d1b9fa6e_23aa_11eb_bd13_acde48001122row9_col0\" class=\"data row9 col0\" >Blaze and the Monster Machines</td>\n",
       "                        <td id=\"T_d1b9fa6e_23aa_11eb_bd13_acde48001122row9_col1\" class=\"data row9 col1\" >-26638353531.304665</td>\n",
       "                        <td id=\"T_d1b9fa6e_23aa_11eb_bd13_acde48001122row9_col2\" class=\"data row9 col2\" >39.000000</td>\n",
       "            </tr>\n",
       "    </tbody></table>"
      ],
      "text/plain": [
       "<pandas.io.formats.style.Styler at 0x7f8a5734e220>"
      ]
     },
     "execution_count": 73,
     "metadata": {},
     "output_type": "execute_result"
    }
   ],
   "source": [
    "pd.concat([artist_scores.iloc[ind-20:ind],artist_scores.iloc[ind+1:ind+21]]).sort_values('popularity',ascending=False).head(10).style.format({'link':make_clickable})"
   ]
  },
  {
   "cell_type": "code",
   "execution_count": 74,
   "metadata": {},
   "outputs": [],
   "source": [
    "with open('../../lyric-nlp/artist_scores.pickle','wb') as out:\n",
    "    pickle.dump(artist_scores,out)"
   ]
  },
  {
   "cell_type": "code",
   "execution_count": 49,
   "metadata": {},
   "outputs": [],
   "source": [
    "with open('../../lyric-nlp/song_scores.pickle','wb') as out:\n",
    "    pickle.dump(df,out)"
   ]
  },
  {
   "cell_type": "code",
   "execution_count": 66,
   "metadata": {},
   "outputs": [],
   "source": []
  },
  {
   "cell_type": "code",
   "execution_count": null,
   "metadata": {},
   "outputs": [],
   "source": []
  }
 ],
 "metadata": {
  "kernelspec": {
   "display_name": "Python 3",
   "language": "python",
   "name": "python3"
  },
  "language_info": {
   "codemirror_mode": {
    "name": "ipython",
    "version": 3
   },
   "file_extension": ".py",
   "mimetype": "text/x-python",
   "name": "python",
   "nbconvert_exporter": "python",
   "pygments_lexer": "ipython3",
   "version": "3.8.2"
  }
 },
 "nbformat": 4,
 "nbformat_minor": 4
}
