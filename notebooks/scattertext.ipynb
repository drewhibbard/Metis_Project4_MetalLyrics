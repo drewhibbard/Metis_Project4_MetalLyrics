{
 "cells": [
  {
   "cell_type": "code",
   "execution_count": 1,
   "metadata": {},
   "outputs": [],
   "source": [
    "import scattertext as st\n",
    "import pickle\n",
    "import pandas as pd\n",
    "import numpy as np"
   ]
  },
  {
   "cell_type": "code",
   "execution_count": 2,
   "metadata": {},
   "outputs": [],
   "source": [
    "with open('../data/metal_artists.pickle','rb') as rf:\n",
    "    metal = pickle.load(rf)\n",
    "    \n",
    "with open('../data/rock_artists.pickle','rb') as rf:\n",
    "    rock = pickle.load(rf)"
   ]
  },
  {
   "cell_type": "code",
   "execution_count": 3,
   "metadata": {},
   "outputs": [],
   "source": [
    "metal = pd.DataFrame(metal)\n",
    "rock = pd.DataFrame(rock)\n",
    "\n",
    "metal['genre'] = 'metal'\n",
    "rock['genre'] = 'rock'\n",
    "\n",
    "df = pd.concat([metal,rock])"
   ]
  },
  {
   "cell_type": "code",
   "execution_count": 4,
   "metadata": {},
   "outputs": [
    {
     "data": {
      "text/html": [
       "<div>\n",
       "<style scoped>\n",
       "    .dataframe tbody tr th:only-of-type {\n",
       "        vertical-align: middle;\n",
       "    }\n",
       "\n",
       "    .dataframe tbody tr th {\n",
       "        vertical-align: top;\n",
       "    }\n",
       "\n",
       "    .dataframe thead th {\n",
       "        text-align: right;\n",
       "    }\n",
       "</style>\n",
       "<table border=\"1\" class=\"dataframe\">\n",
       "  <thead>\n",
       "    <tr style=\"text-align: right;\">\n",
       "      <th></th>\n",
       "      <th>artist_name</th>\n",
       "      <th>release_date</th>\n",
       "      <th>page_views</th>\n",
       "      <th>song_title</th>\n",
       "      <th>album_name</th>\n",
       "      <th>spotify_url</th>\n",
       "      <th>lyrics</th>\n",
       "      <th>genre</th>\n",
       "    </tr>\n",
       "  </thead>\n",
       "  <tbody>\n",
       "    <tr>\n",
       "      <th>0</th>\n",
       "      <td>Kreator</td>\n",
       "      <td>2016-12-16</td>\n",
       "      <td>13775</td>\n",
       "      <td>Satan Is Real</td>\n",
       "      <td>Gods of Violence</td>\n",
       "      <td>nan</td>\n",
       "      <td>Martyrs\\nYou cannot kill us all\\nVengeance wil...</td>\n",
       "      <td>metal</td>\n",
       "    </tr>\n",
       "    <tr>\n",
       "      <th>1</th>\n",
       "      <td>Kreator</td>\n",
       "      <td>1986-11-01</td>\n",
       "      <td>8745</td>\n",
       "      <td>Pleasure to Kill</td>\n",
       "      <td>Pleasure to Kill</td>\n",
       "      <td>nan</td>\n",
       "      <td>Day turns to night as I rise from my grave\\nBl...</td>\n",
       "      <td>metal</td>\n",
       "    </tr>\n",
       "    <tr>\n",
       "      <th>2</th>\n",
       "      <td>Kreator</td>\n",
       "      <td>None</td>\n",
       "      <td>5037</td>\n",
       "      <td>Enemy Of God</td>\n",
       "      <td>Enemy Of God</td>\n",
       "      <td>nan</td>\n",
       "      <td>Shocked Orwellian races, gather united in grie...</td>\n",
       "      <td>metal</td>\n",
       "    </tr>\n",
       "    <tr>\n",
       "      <th>3</th>\n",
       "      <td>Kreator</td>\n",
       "      <td>2017-01-27</td>\n",
       "      <td>0</td>\n",
       "      <td>Fallen Brother</td>\n",
       "      <td>Gods of Violence</td>\n",
       "      <td>nan</td>\n",
       "      <td>[Instrumental Intro]\\n\\nMuch too young you had...</td>\n",
       "      <td>metal</td>\n",
       "    </tr>\n",
       "    <tr>\n",
       "      <th>4</th>\n",
       "      <td>Kreator</td>\n",
       "      <td>2017-01-27</td>\n",
       "      <td>0</td>\n",
       "      <td>Totalitarian Terror</td>\n",
       "      <td>Gods of Violence</td>\n",
       "      <td>nan</td>\n",
       "      <td>Come experience hate like you never have befor...</td>\n",
       "      <td>metal</td>\n",
       "    </tr>\n",
       "  </tbody>\n",
       "</table>\n",
       "</div>"
      ],
      "text/plain": [
       "  artist_name release_date  page_views           song_title        album_name  \\\n",
       "0     Kreator   2016-12-16       13775        Satan Is Real  Gods of Violence   \n",
       "1     Kreator   1986-11-01        8745     Pleasure to Kill  Pleasure to Kill   \n",
       "2     Kreator         None        5037         Enemy Of God      Enemy Of God   \n",
       "3     Kreator   2017-01-27           0       Fallen Brother  Gods of Violence   \n",
       "4     Kreator   2017-01-27           0  Totalitarian Terror  Gods of Violence   \n",
       "\n",
       "  spotify_url                                             lyrics  genre  \n",
       "0         nan  Martyrs\\nYou cannot kill us all\\nVengeance wil...  metal  \n",
       "1         nan  Day turns to night as I rise from my grave\\nBl...  metal  \n",
       "2         nan  Shocked Orwellian races, gather united in grie...  metal  \n",
       "3         nan  [Instrumental Intro]\\n\\nMuch too young you had...  metal  \n",
       "4         nan  Come experience hate like you never have befor...  metal  "
      ]
     },
     "execution_count": 4,
     "metadata": {},
     "output_type": "execute_result"
    }
   ],
   "source": [
    "df.dropna(subset=['lyrics'],inplace=True)\n",
    "df.head()"
   ]
  },
  {
   "cell_type": "code",
   "execution_count": 5,
   "metadata": {},
   "outputs": [],
   "source": [
    "stop_words = open('../data/stopwords.txt','r').read().split()"
   ]
  },
  {
   "cell_type": "code",
   "execution_count": 6,
   "metadata": {},
   "outputs": [],
   "source": [
    "corpus = st.CorpusFromPandas(df,category_col='genre',\n",
    "                             text_col='lyrics',\n",
    "                             nlp=st.whitespace_nlp_with_sentences).build().remove_terms(stop_words,ignore_absences=True)"
   ]
  },
  {
   "cell_type": "code",
   "execution_count": 7,
   "metadata": {},
   "outputs": [],
   "source": [
    "html = st.produce_scattertext_explorer(corpus,\n",
    "                                      category='metal',\n",
    "                                      category_name='Metal',\n",
    "                                      not_category_name='Rock',\n",
    "                                      minimum_term_frequency=100,\n",
    "                                      width_in_pixels=1200,\n",
    "                                      metadata=corpus.get_df()['artist_name'])"
   ]
  },
  {
   "cell_type": "code",
   "execution_count": 8,
   "metadata": {},
   "outputs": [],
   "source": [
    "open('../images/scattertext.html','wb').write(html.encode('utf-8'));"
   ]
  },
  {
   "cell_type": "code",
   "execution_count": null,
   "metadata": {},
   "outputs": [],
   "source": []
  }
 ],
 "metadata": {
  "kernelspec": {
   "display_name": "Python 3",
   "language": "python",
   "name": "python3"
  },
  "language_info": {
   "codemirror_mode": {
    "name": "ipython",
    "version": 3
   },
   "file_extension": ".py",
   "mimetype": "text/x-python",
   "name": "python",
   "nbconvert_exporter": "python",
   "pygments_lexer": "ipython3",
   "version": "3.8.2"
  }
 },
 "nbformat": 4,
 "nbformat_minor": 4
}
